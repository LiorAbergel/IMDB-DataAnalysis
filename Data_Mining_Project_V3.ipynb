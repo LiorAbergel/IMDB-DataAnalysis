{
  "cells": [
    {
      "cell_type": "code",
      "execution_count": null,
      "metadata": {
        "id": "G5RpE88hgppL"
      },
      "outputs": [],
      "source": [
        "from google.colab import drive\n",
        "import pandas as pd\n",
        "import numpy as np\n",
        "\n",
        "import matplotlib.pyplot as plt\n",
        "import seaborn as sns\n",
        "\n",
        "from sklearn.cluster import KMeans\n",
        "from sklearn.preprocessing import LabelEncoder, MinMaxScaler\n",
        "from sklearn.metrics import accuracy_score, confusion_matrix, precision_score, recall_score, f1_score\n",
        "from sklearn.neighbors import KNeighborsClassifier\n",
        "from sklearn.ensemble import RandomForestClassifier, HistGradientBoostingRegressor\n",
        "from sklearn import tree\n",
        "from sklearn.naive_bayes import GaussianNB\n",
        "from sklearn.model_selection import cross_val_score\n",
        "from sklearn.model_selection import train_test_split\n",
        "from sklearn.feature_selection import mutual_info_classif\n",
        "from sklearn.tree import DecisionTreeClassifier"
      ]
    },
    {
      "cell_type": "markdown",
      "metadata": {
        "id": "jJrGJHVEN3mT"
      },
      "source": [
        "# Reading and preparing csv files"
      ]
    },
    {
      "cell_type": "markdown",
      "metadata": {
        "id": "WCkxd6fTG1Nw"
      },
      "source": [
        "Mounting the datasets from google drive"
      ]
    },
    {
      "cell_type": "code",
      "execution_count": null,
      "metadata": {
        "colab": {
          "base_uri": "https://localhost:8080/"
        },
        "id": "dUlO-DbT5SHt",
        "outputId": "368f5272-a95d-4d2e-bf78-3522031eeed1"
      },
      "outputs": [
        {
          "output_type": "stream",
          "name": "stdout",
          "text": [
            "Drive already mounted at /content/drive; to attempt to forcibly remount, call drive.mount(\"/content/drive\", force_remount=True).\n"
          ]
        }
      ],
      "source": [
        "drive.mount('/content/drive')"
      ]
    },
    {
      "cell_type": "markdown",
      "metadata": {
        "id": "3UWQ8yDJ_vuX"
      },
      "source": [
        "First , we use pandas to read the csv files"
      ]
    },
    {
      "cell_type": "code",
      "execution_count": null,
      "metadata": {
        "id": "0KmSSpru_1Qn"
      },
      "outputs": [],
      "source": [
        "df = pd.read_csv(\"/content/drive/MyDrive/Data Mining Project/contentDataPrime.csv\")\n",
        "genre_df =  pd.read_csv(\"/content/drive/MyDrive/Data Mining Project/contentDataGenre.csv\")\n",
        "region_df = pd.read_csv(\"/content/drive/MyDrive/Data Mining Project/contentDataRegion.csv\")"
      ]
    },
    {
      "cell_type": "markdown",
      "metadata": {
        "id": "iSXuRiENlWeR"
      },
      "source": [
        "Next we'll merge the dataframes , so there will be a region and genre column in the prime_df"
      ]
    },
    {
      "cell_type": "code",
      "execution_count": null,
      "metadata": {
        "colab": {
          "base_uri": "https://localhost:8080/",
          "height": 572
        },
        "id": "EtJFRgJQlTOi",
        "outputId": "753b2ac9-9ad6-41e1-ba10-09f3b703b49c"
      },
      "outputs": [
        {
          "output_type": "execute_result",
          "data": {
            "text/plain": [
              "        dataId contentType                             title length  \\\n",
              "0       102795       movie                     Ratha Kanneer    154   \n",
              "1       102796       movie               All Star Comedy Jam     89   \n",
              "2       102797       movie  Faces of Death: Fact or Fiction?     54   \n",
              "3       102798       movie                        Don't Look     71   \n",
              "4       102799       movie         The Escape from Auschwitz     80   \n",
              "...        ...         ...                               ...    ...   \n",
              "101600     497    tvSeries        The Man in the High Castle     60   \n",
              "101601     498    tvSeries                         Justified     44   \n",
              "101602     499    tvSeries                           Misfits     60   \n",
              "101603     500       movie                          I, Robot    115   \n",
              "101604       0       movie          The Shawshank Redemption    142   \n",
              "\n",
              "        releaseYear  endYear    votes  rating      gross certificate  \\\n",
              "0              1954       -1      349     8.5         -1         NaN   \n",
              "1                -1       -1      349     7.5         -1   Not Rated   \n",
              "2                -1       -1      349     2.9         -1     Unrated   \n",
              "3              2018       -1      349     2.8         -1         NaN   \n",
              "4              2020       -1      349     1.7         -1       TV-MA   \n",
              "...             ...      ...      ...     ...        ...         ...   \n",
              "101600         2015     2019   103828     7.9         -1       TV-MA   \n",
              "101601         2010     2015   103427     8.6         -1       TV-MA   \n",
              "101602         2009     2013   103121     8.2         -1       TV-MA   \n",
              "101603         2004       -1   549787     7.1  144800000       PG-13   \n",
              "101604         1994       -1  2715939     9.3   28340000           R   \n",
              "\n",
              "                                              description  \\\n",
              "0       The story revolves around Mohanasundaram, a re...   \n",
              "1       The Original King of Comedy and Shaquille O'Ne...   \n",
              "2                                            Add a Plot\\n   \n",
              "3       In the tradition of classic horror movies, \"Do...   \n",
              "4       After capturing Kazimierz Piechowski at the Hu...   \n",
              "...                                                   ...   \n",
              "101600  In a dystopian America dominated by Nazi Germa...   \n",
              "101601  U.S. Marshal Raylan Givens is reassigned from ...   \n",
              "101602  A group of young offenders doing community ser...   \n",
              "101603  In 2035, a technophobic cop investigates a cri...   \n",
              "101604  Over the course of several years, two convicts...   \n",
              "\n",
              "                                         region                      genre  \n",
              "0                                       [India]                    [Drama]  \n",
              "1                               [United States]      [Documentary, Comedy]  \n",
              "2                               [United States]      [Documentary, Horror]  \n",
              "3                               [United States]                   [Horror]  \n",
              "4                              [United Kingdom]               [Drama, War]  \n",
              "...                                         ...                        ...  \n",
              "101600  [United States, United Kingdom, Canada]  [Drama, Sci-Fi, Thriller]  \n",
              "101601                          [United States]     [Action, Crime, Drama]  \n",
              "101602                         [United Kingdom]   [Comedy, Drama, Fantasy]  \n",
              "101603                 [United States, Germany]  [Action, Mystery, Sci-Fi]  \n",
              "101604                          [United States]                    [Drama]  \n",
              "\n",
              "[101605 rows x 13 columns]"
            ],
            "text/html": [
              "\n",
              "  <div id=\"df-416f968c-fdce-46a2-aec3-8a6f1c1f3d00\">\n",
              "    <div class=\"colab-df-container\">\n",
              "      <div>\n",
              "<style scoped>\n",
              "    .dataframe tbody tr th:only-of-type {\n",
              "        vertical-align: middle;\n",
              "    }\n",
              "\n",
              "    .dataframe tbody tr th {\n",
              "        vertical-align: top;\n",
              "    }\n",
              "\n",
              "    .dataframe thead th {\n",
              "        text-align: right;\n",
              "    }\n",
              "</style>\n",
              "<table border=\"1\" class=\"dataframe\">\n",
              "  <thead>\n",
              "    <tr style=\"text-align: right;\">\n",
              "      <th></th>\n",
              "      <th>dataId</th>\n",
              "      <th>contentType</th>\n",
              "      <th>title</th>\n",
              "      <th>length</th>\n",
              "      <th>releaseYear</th>\n",
              "      <th>endYear</th>\n",
              "      <th>votes</th>\n",
              "      <th>rating</th>\n",
              "      <th>gross</th>\n",
              "      <th>certificate</th>\n",
              "      <th>description</th>\n",
              "      <th>region</th>\n",
              "      <th>genre</th>\n",
              "    </tr>\n",
              "  </thead>\n",
              "  <tbody>\n",
              "    <tr>\n",
              "      <th>0</th>\n",
              "      <td>102795</td>\n",
              "      <td>movie</td>\n",
              "      <td>Ratha Kanneer</td>\n",
              "      <td>154</td>\n",
              "      <td>1954</td>\n",
              "      <td>-1</td>\n",
              "      <td>349</td>\n",
              "      <td>8.5</td>\n",
              "      <td>-1</td>\n",
              "      <td>NaN</td>\n",
              "      <td>The story revolves around Mohanasundaram, a re...</td>\n",
              "      <td>[India]</td>\n",
              "      <td>[Drama]</td>\n",
              "    </tr>\n",
              "    <tr>\n",
              "      <th>1</th>\n",
              "      <td>102796</td>\n",
              "      <td>movie</td>\n",
              "      <td>All Star Comedy Jam</td>\n",
              "      <td>89</td>\n",
              "      <td>-1</td>\n",
              "      <td>-1</td>\n",
              "      <td>349</td>\n",
              "      <td>7.5</td>\n",
              "      <td>-1</td>\n",
              "      <td>Not Rated</td>\n",
              "      <td>The Original King of Comedy and Shaquille O'Ne...</td>\n",
              "      <td>[United States]</td>\n",
              "      <td>[Documentary, Comedy]</td>\n",
              "    </tr>\n",
              "    <tr>\n",
              "      <th>2</th>\n",
              "      <td>102797</td>\n",
              "      <td>movie</td>\n",
              "      <td>Faces of Death: Fact or Fiction?</td>\n",
              "      <td>54</td>\n",
              "      <td>-1</td>\n",
              "      <td>-1</td>\n",
              "      <td>349</td>\n",
              "      <td>2.9</td>\n",
              "      <td>-1</td>\n",
              "      <td>Unrated</td>\n",
              "      <td>Add a Plot\\n</td>\n",
              "      <td>[United States]</td>\n",
              "      <td>[Documentary, Horror]</td>\n",
              "    </tr>\n",
              "    <tr>\n",
              "      <th>3</th>\n",
              "      <td>102798</td>\n",
              "      <td>movie</td>\n",
              "      <td>Don't Look</td>\n",
              "      <td>71</td>\n",
              "      <td>2018</td>\n",
              "      <td>-1</td>\n",
              "      <td>349</td>\n",
              "      <td>2.8</td>\n",
              "      <td>-1</td>\n",
              "      <td>NaN</td>\n",
              "      <td>In the tradition of classic horror movies, \"Do...</td>\n",
              "      <td>[United States]</td>\n",
              "      <td>[Horror]</td>\n",
              "    </tr>\n",
              "    <tr>\n",
              "      <th>4</th>\n",
              "      <td>102799</td>\n",
              "      <td>movie</td>\n",
              "      <td>The Escape from Auschwitz</td>\n",
              "      <td>80</td>\n",
              "      <td>2020</td>\n",
              "      <td>-1</td>\n",
              "      <td>349</td>\n",
              "      <td>1.7</td>\n",
              "      <td>-1</td>\n",
              "      <td>TV-MA</td>\n",
              "      <td>After capturing Kazimierz Piechowski at the Hu...</td>\n",
              "      <td>[United Kingdom]</td>\n",
              "      <td>[Drama, War]</td>\n",
              "    </tr>\n",
              "    <tr>\n",
              "      <th>...</th>\n",
              "      <td>...</td>\n",
              "      <td>...</td>\n",
              "      <td>...</td>\n",
              "      <td>...</td>\n",
              "      <td>...</td>\n",
              "      <td>...</td>\n",
              "      <td>...</td>\n",
              "      <td>...</td>\n",
              "      <td>...</td>\n",
              "      <td>...</td>\n",
              "      <td>...</td>\n",
              "      <td>...</td>\n",
              "      <td>...</td>\n",
              "    </tr>\n",
              "    <tr>\n",
              "      <th>101600</th>\n",
              "      <td>497</td>\n",
              "      <td>tvSeries</td>\n",
              "      <td>The Man in the High Castle</td>\n",
              "      <td>60</td>\n",
              "      <td>2015</td>\n",
              "      <td>2019</td>\n",
              "      <td>103828</td>\n",
              "      <td>7.9</td>\n",
              "      <td>-1</td>\n",
              "      <td>TV-MA</td>\n",
              "      <td>In a dystopian America dominated by Nazi Germa...</td>\n",
              "      <td>[United States, United Kingdom, Canada]</td>\n",
              "      <td>[Drama, Sci-Fi, Thriller]</td>\n",
              "    </tr>\n",
              "    <tr>\n",
              "      <th>101601</th>\n",
              "      <td>498</td>\n",
              "      <td>tvSeries</td>\n",
              "      <td>Justified</td>\n",
              "      <td>44</td>\n",
              "      <td>2010</td>\n",
              "      <td>2015</td>\n",
              "      <td>103427</td>\n",
              "      <td>8.6</td>\n",
              "      <td>-1</td>\n",
              "      <td>TV-MA</td>\n",
              "      <td>U.S. Marshal Raylan Givens is reassigned from ...</td>\n",
              "      <td>[United States]</td>\n",
              "      <td>[Action, Crime, Drama]</td>\n",
              "    </tr>\n",
              "    <tr>\n",
              "      <th>101602</th>\n",
              "      <td>499</td>\n",
              "      <td>tvSeries</td>\n",
              "      <td>Misfits</td>\n",
              "      <td>60</td>\n",
              "      <td>2009</td>\n",
              "      <td>2013</td>\n",
              "      <td>103121</td>\n",
              "      <td>8.2</td>\n",
              "      <td>-1</td>\n",
              "      <td>TV-MA</td>\n",
              "      <td>A group of young offenders doing community ser...</td>\n",
              "      <td>[United Kingdom]</td>\n",
              "      <td>[Comedy, Drama, Fantasy]</td>\n",
              "    </tr>\n",
              "    <tr>\n",
              "      <th>101603</th>\n",
              "      <td>500</td>\n",
              "      <td>movie</td>\n",
              "      <td>I, Robot</td>\n",
              "      <td>115</td>\n",
              "      <td>2004</td>\n",
              "      <td>-1</td>\n",
              "      <td>549787</td>\n",
              "      <td>7.1</td>\n",
              "      <td>144800000</td>\n",
              "      <td>PG-13</td>\n",
              "      <td>In 2035, a technophobic cop investigates a cri...</td>\n",
              "      <td>[United States, Germany]</td>\n",
              "      <td>[Action, Mystery, Sci-Fi]</td>\n",
              "    </tr>\n",
              "    <tr>\n",
              "      <th>101604</th>\n",
              "      <td>0</td>\n",
              "      <td>movie</td>\n",
              "      <td>The Shawshank Redemption</td>\n",
              "      <td>142</td>\n",
              "      <td>1994</td>\n",
              "      <td>-1</td>\n",
              "      <td>2715939</td>\n",
              "      <td>9.3</td>\n",
              "      <td>28340000</td>\n",
              "      <td>R</td>\n",
              "      <td>Over the course of several years, two convicts...</td>\n",
              "      <td>[United States]</td>\n",
              "      <td>[Drama]</td>\n",
              "    </tr>\n",
              "  </tbody>\n",
              "</table>\n",
              "<p>101605 rows × 13 columns</p>\n",
              "</div>\n",
              "      <button class=\"colab-df-convert\" onclick=\"convertToInteractive('df-416f968c-fdce-46a2-aec3-8a6f1c1f3d00')\"\n",
              "              title=\"Convert this dataframe to an interactive table.\"\n",
              "              style=\"display:none;\">\n",
              "        \n",
              "  <svg xmlns=\"http://www.w3.org/2000/svg\" height=\"24px\"viewBox=\"0 0 24 24\"\n",
              "       width=\"24px\">\n",
              "    <path d=\"M0 0h24v24H0V0z\" fill=\"none\"/>\n",
              "    <path d=\"M18.56 5.44l.94 2.06.94-2.06 2.06-.94-2.06-.94-.94-2.06-.94 2.06-2.06.94zm-11 1L8.5 8.5l.94-2.06 2.06-.94-2.06-.94L8.5 2.5l-.94 2.06-2.06.94zm10 10l.94 2.06.94-2.06 2.06-.94-2.06-.94-.94-2.06-.94 2.06-2.06.94z\"/><path d=\"M17.41 7.96l-1.37-1.37c-.4-.4-.92-.59-1.43-.59-.52 0-1.04.2-1.43.59L10.3 9.45l-7.72 7.72c-.78.78-.78 2.05 0 2.83L4 21.41c.39.39.9.59 1.41.59.51 0 1.02-.2 1.41-.59l7.78-7.78 2.81-2.81c.8-.78.8-2.07 0-2.86zM5.41 20L4 18.59l7.72-7.72 1.47 1.35L5.41 20z\"/>\n",
              "  </svg>\n",
              "      </button>\n",
              "      \n",
              "  <style>\n",
              "    .colab-df-container {\n",
              "      display:flex;\n",
              "      flex-wrap:wrap;\n",
              "      gap: 12px;\n",
              "    }\n",
              "\n",
              "    .colab-df-convert {\n",
              "      background-color: #E8F0FE;\n",
              "      border: none;\n",
              "      border-radius: 50%;\n",
              "      cursor: pointer;\n",
              "      display: none;\n",
              "      fill: #1967D2;\n",
              "      height: 32px;\n",
              "      padding: 0 0 0 0;\n",
              "      width: 32px;\n",
              "    }\n",
              "\n",
              "    .colab-df-convert:hover {\n",
              "      background-color: #E2EBFA;\n",
              "      box-shadow: 0px 1px 2px rgba(60, 64, 67, 0.3), 0px 1px 3px 1px rgba(60, 64, 67, 0.15);\n",
              "      fill: #174EA6;\n",
              "    }\n",
              "\n",
              "    [theme=dark] .colab-df-convert {\n",
              "      background-color: #3B4455;\n",
              "      fill: #D2E3FC;\n",
              "    }\n",
              "\n",
              "    [theme=dark] .colab-df-convert:hover {\n",
              "      background-color: #434B5C;\n",
              "      box-shadow: 0px 1px 3px 1px rgba(0, 0, 0, 0.15);\n",
              "      filter: drop-shadow(0px 1px 2px rgba(0, 0, 0, 0.3));\n",
              "      fill: #FFFFFF;\n",
              "    }\n",
              "  </style>\n",
              "\n",
              "      <script>\n",
              "        const buttonEl =\n",
              "          document.querySelector('#df-416f968c-fdce-46a2-aec3-8a6f1c1f3d00 button.colab-df-convert');\n",
              "        buttonEl.style.display =\n",
              "          google.colab.kernel.accessAllowed ? 'block' : 'none';\n",
              "\n",
              "        async function convertToInteractive(key) {\n",
              "          const element = document.querySelector('#df-416f968c-fdce-46a2-aec3-8a6f1c1f3d00');\n",
              "          const dataTable =\n",
              "            await google.colab.kernel.invokeFunction('convertToInteractive',\n",
              "                                                     [key], {});\n",
              "          if (!dataTable) return;\n",
              "\n",
              "          const docLinkHtml = 'Like what you see? Visit the ' +\n",
              "            '<a target=\"_blank\" href=https://colab.research.google.com/notebooks/data_table.ipynb>data table notebook</a>'\n",
              "            + ' to learn more about interactive tables.';\n",
              "          element.innerHTML = '';\n",
              "          dataTable['output_type'] = 'display_data';\n",
              "          await google.colab.output.renderOutput(dataTable, element);\n",
              "          const docLink = document.createElement('div');\n",
              "          docLink.innerHTML = docLinkHtml;\n",
              "          element.appendChild(docLink);\n",
              "        }\n",
              "      </script>\n",
              "    </div>\n",
              "  </div>\n",
              "  "
            ]
          },
          "metadata": {},
          "execution_count": 165
        }
      ],
      "source": [
        "df = df.merge(region_df.groupby('dataId')['region'].apply(list).reset_index(), on='dataId', how='left')\n",
        "df = df.merge(genre_df.groupby('dataId')['genre'].apply(list).reset_index(), on='dataId', how='left')\n",
        "df"
      ]
    },
    {
      "cell_type": "markdown",
      "metadata": {
        "id": "NXbwcsrlTZpi"
      },
      "source": [
        "\n",
        "# Exploratory data analysis\n",
        "\n",
        "\n",
        "\n"
      ]
    },
    {
      "cell_type": "markdown",
      "metadata": {
        "id": "zpk_rIyrwqFs"
      },
      "source": [
        "Now , we use the describe and info methods to get a good understanding of our data"
      ]
    },
    {
      "cell_type": "code",
      "execution_count": null,
      "metadata": {
        "colab": {
          "base_uri": "https://localhost:8080/",
          "height": 300
        },
        "id": "gne7hXw8pa98",
        "outputId": "c0d4c2ee-534a-4722-895f-da1f3241a153"
      },
      "outputs": [
        {
          "output_type": "execute_result",
          "data": {
            "text/plain": [
              "              dataId    releaseYear        endYear         votes  \\\n",
              "count  101605.000000  101605.000000  101605.000000  1.016050e+05   \n",
              "mean    52149.129039    1877.734924     201.788859  1.132205e+04   \n",
              "std     29761.937561     479.015378     604.807306  6.084925e+04   \n",
              "min         0.000000      -1.000000      -1.000000 -1.000000e+00   \n",
              "25%     26503.000000    1984.000000      -1.000000  4.550000e+02   \n",
              "50%     52491.000000    2007.000000      -1.000000  9.520000e+02   \n",
              "75%     77892.000000    2016.000000      -1.000000  3.097000e+03   \n",
              "max    103293.000000    2023.000000    2024.000000  2.715939e+06   \n",
              "\n",
              "              rating         gross  \n",
              "count  101605.000000  1.016050e+05  \n",
              "mean        6.361956  3.008252e+06  \n",
              "std         1.315028  2.049267e+07  \n",
              "min         1.000000 -1.000000e+00  \n",
              "25%         5.700000 -1.000000e+00  \n",
              "50%         6.500000 -1.000000e+00  \n",
              "75%         7.300000 -1.000000e+00  \n",
              "max        10.000000  9.366600e+08  "
            ],
            "text/html": [
              "\n",
              "  <div id=\"df-0bcc40c9-a29c-45e0-a19a-9fdaeeb5f176\">\n",
              "    <div class=\"colab-df-container\">\n",
              "      <div>\n",
              "<style scoped>\n",
              "    .dataframe tbody tr th:only-of-type {\n",
              "        vertical-align: middle;\n",
              "    }\n",
              "\n",
              "    .dataframe tbody tr th {\n",
              "        vertical-align: top;\n",
              "    }\n",
              "\n",
              "    .dataframe thead th {\n",
              "        text-align: right;\n",
              "    }\n",
              "</style>\n",
              "<table border=\"1\" class=\"dataframe\">\n",
              "  <thead>\n",
              "    <tr style=\"text-align: right;\">\n",
              "      <th></th>\n",
              "      <th>dataId</th>\n",
              "      <th>releaseYear</th>\n",
              "      <th>endYear</th>\n",
              "      <th>votes</th>\n",
              "      <th>rating</th>\n",
              "      <th>gross</th>\n",
              "    </tr>\n",
              "  </thead>\n",
              "  <tbody>\n",
              "    <tr>\n",
              "      <th>count</th>\n",
              "      <td>101605.000000</td>\n",
              "      <td>101605.000000</td>\n",
              "      <td>101605.000000</td>\n",
              "      <td>1.016050e+05</td>\n",
              "      <td>101605.000000</td>\n",
              "      <td>1.016050e+05</td>\n",
              "    </tr>\n",
              "    <tr>\n",
              "      <th>mean</th>\n",
              "      <td>52149.129039</td>\n",
              "      <td>1877.734924</td>\n",
              "      <td>201.788859</td>\n",
              "      <td>1.132205e+04</td>\n",
              "      <td>6.361956</td>\n",
              "      <td>3.008252e+06</td>\n",
              "    </tr>\n",
              "    <tr>\n",
              "      <th>std</th>\n",
              "      <td>29761.937561</td>\n",
              "      <td>479.015378</td>\n",
              "      <td>604.807306</td>\n",
              "      <td>6.084925e+04</td>\n",
              "      <td>1.315028</td>\n",
              "      <td>2.049267e+07</td>\n",
              "    </tr>\n",
              "    <tr>\n",
              "      <th>min</th>\n",
              "      <td>0.000000</td>\n",
              "      <td>-1.000000</td>\n",
              "      <td>-1.000000</td>\n",
              "      <td>-1.000000e+00</td>\n",
              "      <td>1.000000</td>\n",
              "      <td>-1.000000e+00</td>\n",
              "    </tr>\n",
              "    <tr>\n",
              "      <th>25%</th>\n",
              "      <td>26503.000000</td>\n",
              "      <td>1984.000000</td>\n",
              "      <td>-1.000000</td>\n",
              "      <td>4.550000e+02</td>\n",
              "      <td>5.700000</td>\n",
              "      <td>-1.000000e+00</td>\n",
              "    </tr>\n",
              "    <tr>\n",
              "      <th>50%</th>\n",
              "      <td>52491.000000</td>\n",
              "      <td>2007.000000</td>\n",
              "      <td>-1.000000</td>\n",
              "      <td>9.520000e+02</td>\n",
              "      <td>6.500000</td>\n",
              "      <td>-1.000000e+00</td>\n",
              "    </tr>\n",
              "    <tr>\n",
              "      <th>75%</th>\n",
              "      <td>77892.000000</td>\n",
              "      <td>2016.000000</td>\n",
              "      <td>-1.000000</td>\n",
              "      <td>3.097000e+03</td>\n",
              "      <td>7.300000</td>\n",
              "      <td>-1.000000e+00</td>\n",
              "    </tr>\n",
              "    <tr>\n",
              "      <th>max</th>\n",
              "      <td>103293.000000</td>\n",
              "      <td>2023.000000</td>\n",
              "      <td>2024.000000</td>\n",
              "      <td>2.715939e+06</td>\n",
              "      <td>10.000000</td>\n",
              "      <td>9.366600e+08</td>\n",
              "    </tr>\n",
              "  </tbody>\n",
              "</table>\n",
              "</div>\n",
              "      <button class=\"colab-df-convert\" onclick=\"convertToInteractive('df-0bcc40c9-a29c-45e0-a19a-9fdaeeb5f176')\"\n",
              "              title=\"Convert this dataframe to an interactive table.\"\n",
              "              style=\"display:none;\">\n",
              "        \n",
              "  <svg xmlns=\"http://www.w3.org/2000/svg\" height=\"24px\"viewBox=\"0 0 24 24\"\n",
              "       width=\"24px\">\n",
              "    <path d=\"M0 0h24v24H0V0z\" fill=\"none\"/>\n",
              "    <path d=\"M18.56 5.44l.94 2.06.94-2.06 2.06-.94-2.06-.94-.94-2.06-.94 2.06-2.06.94zm-11 1L8.5 8.5l.94-2.06 2.06-.94-2.06-.94L8.5 2.5l-.94 2.06-2.06.94zm10 10l.94 2.06.94-2.06 2.06-.94-2.06-.94-.94-2.06-.94 2.06-2.06.94z\"/><path d=\"M17.41 7.96l-1.37-1.37c-.4-.4-.92-.59-1.43-.59-.52 0-1.04.2-1.43.59L10.3 9.45l-7.72 7.72c-.78.78-.78 2.05 0 2.83L4 21.41c.39.39.9.59 1.41.59.51 0 1.02-.2 1.41-.59l7.78-7.78 2.81-2.81c.8-.78.8-2.07 0-2.86zM5.41 20L4 18.59l7.72-7.72 1.47 1.35L5.41 20z\"/>\n",
              "  </svg>\n",
              "      </button>\n",
              "      \n",
              "  <style>\n",
              "    .colab-df-container {\n",
              "      display:flex;\n",
              "      flex-wrap:wrap;\n",
              "      gap: 12px;\n",
              "    }\n",
              "\n",
              "    .colab-df-convert {\n",
              "      background-color: #E8F0FE;\n",
              "      border: none;\n",
              "      border-radius: 50%;\n",
              "      cursor: pointer;\n",
              "      display: none;\n",
              "      fill: #1967D2;\n",
              "      height: 32px;\n",
              "      padding: 0 0 0 0;\n",
              "      width: 32px;\n",
              "    }\n",
              "\n",
              "    .colab-df-convert:hover {\n",
              "      background-color: #E2EBFA;\n",
              "      box-shadow: 0px 1px 2px rgba(60, 64, 67, 0.3), 0px 1px 3px 1px rgba(60, 64, 67, 0.15);\n",
              "      fill: #174EA6;\n",
              "    }\n",
              "\n",
              "    [theme=dark] .colab-df-convert {\n",
              "      background-color: #3B4455;\n",
              "      fill: #D2E3FC;\n",
              "    }\n",
              "\n",
              "    [theme=dark] .colab-df-convert:hover {\n",
              "      background-color: #434B5C;\n",
              "      box-shadow: 0px 1px 3px 1px rgba(0, 0, 0, 0.15);\n",
              "      filter: drop-shadow(0px 1px 2px rgba(0, 0, 0, 0.3));\n",
              "      fill: #FFFFFF;\n",
              "    }\n",
              "  </style>\n",
              "\n",
              "      <script>\n",
              "        const buttonEl =\n",
              "          document.querySelector('#df-0bcc40c9-a29c-45e0-a19a-9fdaeeb5f176 button.colab-df-convert');\n",
              "        buttonEl.style.display =\n",
              "          google.colab.kernel.accessAllowed ? 'block' : 'none';\n",
              "\n",
              "        async function convertToInteractive(key) {\n",
              "          const element = document.querySelector('#df-0bcc40c9-a29c-45e0-a19a-9fdaeeb5f176');\n",
              "          const dataTable =\n",
              "            await google.colab.kernel.invokeFunction('convertToInteractive',\n",
              "                                                     [key], {});\n",
              "          if (!dataTable) return;\n",
              "\n",
              "          const docLinkHtml = 'Like what you see? Visit the ' +\n",
              "            '<a target=\"_blank\" href=https://colab.research.google.com/notebooks/data_table.ipynb>data table notebook</a>'\n",
              "            + ' to learn more about interactive tables.';\n",
              "          element.innerHTML = '';\n",
              "          dataTable['output_type'] = 'display_data';\n",
              "          await google.colab.output.renderOutput(dataTable, element);\n",
              "          const docLink = document.createElement('div');\n",
              "          docLink.innerHTML = docLinkHtml;\n",
              "          element.appendChild(docLink);\n",
              "        }\n",
              "      </script>\n",
              "    </div>\n",
              "  </div>\n",
              "  "
            ]
          },
          "metadata": {},
          "execution_count": 166
        }
      ],
      "source": [
        "df.describe()"
      ]
    },
    {
      "cell_type": "code",
      "execution_count": null,
      "metadata": {
        "colab": {
          "base_uri": "https://localhost:8080/"
        },
        "id": "BSNMxft-HTFH",
        "outputId": "d3ffed76-27ce-4e37-81f2-efb4add9a289"
      },
      "outputs": [
        {
          "output_type": "stream",
          "name": "stdout",
          "text": [
            "<class 'pandas.core.frame.DataFrame'>\n",
            "Int64Index: 101605 entries, 0 to 101604\n",
            "Data columns (total 13 columns):\n",
            " #   Column       Non-Null Count   Dtype  \n",
            "---  ------       --------------   -----  \n",
            " 0   dataId       101605 non-null  int64  \n",
            " 1   contentType  101605 non-null  object \n",
            " 2   title        101605 non-null  object \n",
            " 3   length       101605 non-null  object \n",
            " 4   releaseYear  101605 non-null  int64  \n",
            " 5   endYear      101605 non-null  int64  \n",
            " 6   votes        101605 non-null  int64  \n",
            " 7   rating       101605 non-null  float64\n",
            " 8   gross        101605 non-null  int64  \n",
            " 9   certificate  58357 non-null   object \n",
            " 10  description  101605 non-null  object \n",
            " 11  region       101605 non-null  object \n",
            " 12  genre        101605 non-null  object \n",
            "dtypes: float64(1), int64(5), object(7)\n",
            "memory usage: 10.9+ MB\n"
          ]
        }
      ],
      "source": [
        "df.info()"
      ]
    },
    {
      "cell_type": "markdown",
      "metadata": {
        "id": "jKkMfLcOZzT4"
      },
      "source": [
        "Looking at our data frame , we notice that -1 and \"null\" are used to represent empty value . So the real count of the null values is probably higher than described by the info method . We'll want to replace those null values with Numpy NAN so we'll know how many missing values we have"
      ]
    },
    {
      "cell_type": "code",
      "execution_count": null,
      "metadata": {
        "colab": {
          "base_uri": "https://localhost:8080/"
        },
        "id": "GFEIyY9ehZJq",
        "outputId": "3312dfd5-e523-444c-ec57-4abc32cceb3d"
      },
      "outputs": [
        {
          "output_type": "stream",
          "name": "stdout",
          "text": [
            "<class 'pandas.core.frame.DataFrame'>\n",
            "Int64Index: 101605 entries, 0 to 101604\n",
            "Data columns (total 13 columns):\n",
            " #   Column       Non-Null Count   Dtype  \n",
            "---  ------       --------------   -----  \n",
            " 0   dataId       101605 non-null  int64  \n",
            " 1   contentType  101605 non-null  object \n",
            " 2   title        101605 non-null  object \n",
            " 3   length       93894 non-null   float64\n",
            " 4   releaseYear  95416 non-null   float64\n",
            " 5   endYear      10269 non-null   float64\n",
            " 6   votes        101604 non-null  float64\n",
            " 7   rating       101605 non-null  float64\n",
            " 8   gross        14649 non-null   float64\n",
            " 9   certificate  58357 non-null   object \n",
            " 10  description  101605 non-null  object \n",
            " 11  region       101605 non-null  object \n",
            " 12  genre        101605 non-null  object \n",
            "dtypes: float64(6), int64(1), object(6)\n",
            "memory usage: 10.9+ MB\n"
          ]
        }
      ],
      "source": [
        "# Function to check and replace empty values with NumPy NAN\n",
        "def replace_empty_value_with_nan(value):\n",
        "    return np.nan if value in (-1, \"-1\", \"null\") else value\n",
        "\n",
        "# convert values in length column to int\n",
        "df['length'] = df['length'].str.replace(',', '').astype('int64')\n",
        "\n",
        "# apply replace_empty_value_with_nan function to df\n",
        "df = df.applymap(replace_empty_value_with_nan)\n",
        "\n",
        "df.info()"
      ]
    },
    {
      "cell_type": "code",
      "execution_count": null,
      "metadata": {
        "colab": {
          "base_uri": "https://localhost:8080/",
          "height": 300
        },
        "id": "-qgh0eGK64nR",
        "outputId": "5f99a5f5-33d3-4971-8f2d-940b372026f9"
      },
      "outputs": [
        {
          "output_type": "execute_result",
          "data": {
            "text/plain": [
              "              dataId        length   releaseYear       endYear         votes  \\\n",
              "count  101605.000000  93894.000000  95416.000000  10269.000000  1.016040e+05   \n",
              "mean    52149.129039     89.384199   1999.595938   2005.462362  1.132216e+04   \n",
              "std     29761.937561     60.213397     23.279797     15.212239  6.084954e+04   \n",
              "min         0.000000      1.000000   1874.000000   1952.000000  1.020000e+02   \n",
              "25%     26503.000000     61.000000   1991.000000   1998.000000  4.550000e+02   \n",
              "50%     52491.000000     91.000000   2008.000000   2010.000000  9.520000e+02   \n",
              "75%     77892.000000    106.000000   2016.000000   2017.000000  3.097000e+03   \n",
              "max    103293.000000   5220.000000   2023.000000   2024.000000  2.715939e+06   \n",
              "\n",
              "              rating         gross  \n",
              "count  101605.000000  1.464900e+04  \n",
              "mean        6.361956  2.086515e+07  \n",
              "std         1.315028  5.040152e+07  \n",
              "min         1.000000  0.000000e+00  \n",
              "25%         5.700000  1.600000e+05  \n",
              "50%         6.500000  1.980000e+06  \n",
              "75%         7.300000  1.882000e+07  \n",
              "max        10.000000  9.366600e+08  "
            ],
            "text/html": [
              "\n",
              "  <div id=\"df-7ae53275-725a-4c9e-8643-a3db664c4acb\">\n",
              "    <div class=\"colab-df-container\">\n",
              "      <div>\n",
              "<style scoped>\n",
              "    .dataframe tbody tr th:only-of-type {\n",
              "        vertical-align: middle;\n",
              "    }\n",
              "\n",
              "    .dataframe tbody tr th {\n",
              "        vertical-align: top;\n",
              "    }\n",
              "\n",
              "    .dataframe thead th {\n",
              "        text-align: right;\n",
              "    }\n",
              "</style>\n",
              "<table border=\"1\" class=\"dataframe\">\n",
              "  <thead>\n",
              "    <tr style=\"text-align: right;\">\n",
              "      <th></th>\n",
              "      <th>dataId</th>\n",
              "      <th>length</th>\n",
              "      <th>releaseYear</th>\n",
              "      <th>endYear</th>\n",
              "      <th>votes</th>\n",
              "      <th>rating</th>\n",
              "      <th>gross</th>\n",
              "    </tr>\n",
              "  </thead>\n",
              "  <tbody>\n",
              "    <tr>\n",
              "      <th>count</th>\n",
              "      <td>101605.000000</td>\n",
              "      <td>93894.000000</td>\n",
              "      <td>95416.000000</td>\n",
              "      <td>10269.000000</td>\n",
              "      <td>1.016040e+05</td>\n",
              "      <td>101605.000000</td>\n",
              "      <td>1.464900e+04</td>\n",
              "    </tr>\n",
              "    <tr>\n",
              "      <th>mean</th>\n",
              "      <td>52149.129039</td>\n",
              "      <td>89.384199</td>\n",
              "      <td>1999.595938</td>\n",
              "      <td>2005.462362</td>\n",
              "      <td>1.132216e+04</td>\n",
              "      <td>6.361956</td>\n",
              "      <td>2.086515e+07</td>\n",
              "    </tr>\n",
              "    <tr>\n",
              "      <th>std</th>\n",
              "      <td>29761.937561</td>\n",
              "      <td>60.213397</td>\n",
              "      <td>23.279797</td>\n",
              "      <td>15.212239</td>\n",
              "      <td>6.084954e+04</td>\n",
              "      <td>1.315028</td>\n",
              "      <td>5.040152e+07</td>\n",
              "    </tr>\n",
              "    <tr>\n",
              "      <th>min</th>\n",
              "      <td>0.000000</td>\n",
              "      <td>1.000000</td>\n",
              "      <td>1874.000000</td>\n",
              "      <td>1952.000000</td>\n",
              "      <td>1.020000e+02</td>\n",
              "      <td>1.000000</td>\n",
              "      <td>0.000000e+00</td>\n",
              "    </tr>\n",
              "    <tr>\n",
              "      <th>25%</th>\n",
              "      <td>26503.000000</td>\n",
              "      <td>61.000000</td>\n",
              "      <td>1991.000000</td>\n",
              "      <td>1998.000000</td>\n",
              "      <td>4.550000e+02</td>\n",
              "      <td>5.700000</td>\n",
              "      <td>1.600000e+05</td>\n",
              "    </tr>\n",
              "    <tr>\n",
              "      <th>50%</th>\n",
              "      <td>52491.000000</td>\n",
              "      <td>91.000000</td>\n",
              "      <td>2008.000000</td>\n",
              "      <td>2010.000000</td>\n",
              "      <td>9.520000e+02</td>\n",
              "      <td>6.500000</td>\n",
              "      <td>1.980000e+06</td>\n",
              "    </tr>\n",
              "    <tr>\n",
              "      <th>75%</th>\n",
              "      <td>77892.000000</td>\n",
              "      <td>106.000000</td>\n",
              "      <td>2016.000000</td>\n",
              "      <td>2017.000000</td>\n",
              "      <td>3.097000e+03</td>\n",
              "      <td>7.300000</td>\n",
              "      <td>1.882000e+07</td>\n",
              "    </tr>\n",
              "    <tr>\n",
              "      <th>max</th>\n",
              "      <td>103293.000000</td>\n",
              "      <td>5220.000000</td>\n",
              "      <td>2023.000000</td>\n",
              "      <td>2024.000000</td>\n",
              "      <td>2.715939e+06</td>\n",
              "      <td>10.000000</td>\n",
              "      <td>9.366600e+08</td>\n",
              "    </tr>\n",
              "  </tbody>\n",
              "</table>\n",
              "</div>\n",
              "      <button class=\"colab-df-convert\" onclick=\"convertToInteractive('df-7ae53275-725a-4c9e-8643-a3db664c4acb')\"\n",
              "              title=\"Convert this dataframe to an interactive table.\"\n",
              "              style=\"display:none;\">\n",
              "        \n",
              "  <svg xmlns=\"http://www.w3.org/2000/svg\" height=\"24px\"viewBox=\"0 0 24 24\"\n",
              "       width=\"24px\">\n",
              "    <path d=\"M0 0h24v24H0V0z\" fill=\"none\"/>\n",
              "    <path d=\"M18.56 5.44l.94 2.06.94-2.06 2.06-.94-2.06-.94-.94-2.06-.94 2.06-2.06.94zm-11 1L8.5 8.5l.94-2.06 2.06-.94-2.06-.94L8.5 2.5l-.94 2.06-2.06.94zm10 10l.94 2.06.94-2.06 2.06-.94-2.06-.94-.94-2.06-.94 2.06-2.06.94z\"/><path d=\"M17.41 7.96l-1.37-1.37c-.4-.4-.92-.59-1.43-.59-.52 0-1.04.2-1.43.59L10.3 9.45l-7.72 7.72c-.78.78-.78 2.05 0 2.83L4 21.41c.39.39.9.59 1.41.59.51 0 1.02-.2 1.41-.59l7.78-7.78 2.81-2.81c.8-.78.8-2.07 0-2.86zM5.41 20L4 18.59l7.72-7.72 1.47 1.35L5.41 20z\"/>\n",
              "  </svg>\n",
              "      </button>\n",
              "      \n",
              "  <style>\n",
              "    .colab-df-container {\n",
              "      display:flex;\n",
              "      flex-wrap:wrap;\n",
              "      gap: 12px;\n",
              "    }\n",
              "\n",
              "    .colab-df-convert {\n",
              "      background-color: #E8F0FE;\n",
              "      border: none;\n",
              "      border-radius: 50%;\n",
              "      cursor: pointer;\n",
              "      display: none;\n",
              "      fill: #1967D2;\n",
              "      height: 32px;\n",
              "      padding: 0 0 0 0;\n",
              "      width: 32px;\n",
              "    }\n",
              "\n",
              "    .colab-df-convert:hover {\n",
              "      background-color: #E2EBFA;\n",
              "      box-shadow: 0px 1px 2px rgba(60, 64, 67, 0.3), 0px 1px 3px 1px rgba(60, 64, 67, 0.15);\n",
              "      fill: #174EA6;\n",
              "    }\n",
              "\n",
              "    [theme=dark] .colab-df-convert {\n",
              "      background-color: #3B4455;\n",
              "      fill: #D2E3FC;\n",
              "    }\n",
              "\n",
              "    [theme=dark] .colab-df-convert:hover {\n",
              "      background-color: #434B5C;\n",
              "      box-shadow: 0px 1px 3px 1px rgba(0, 0, 0, 0.15);\n",
              "      filter: drop-shadow(0px 1px 2px rgba(0, 0, 0, 0.3));\n",
              "      fill: #FFFFFF;\n",
              "    }\n",
              "  </style>\n",
              "\n",
              "      <script>\n",
              "        const buttonEl =\n",
              "          document.querySelector('#df-7ae53275-725a-4c9e-8643-a3db664c4acb button.colab-df-convert');\n",
              "        buttonEl.style.display =\n",
              "          google.colab.kernel.accessAllowed ? 'block' : 'none';\n",
              "\n",
              "        async function convertToInteractive(key) {\n",
              "          const element = document.querySelector('#df-7ae53275-725a-4c9e-8643-a3db664c4acb');\n",
              "          const dataTable =\n",
              "            await google.colab.kernel.invokeFunction('convertToInteractive',\n",
              "                                                     [key], {});\n",
              "          if (!dataTable) return;\n",
              "\n",
              "          const docLinkHtml = 'Like what you see? Visit the ' +\n",
              "            '<a target=\"_blank\" href=https://colab.research.google.com/notebooks/data_table.ipynb>data table notebook</a>'\n",
              "            + ' to learn more about interactive tables.';\n",
              "          element.innerHTML = '';\n",
              "          dataTable['output_type'] = 'display_data';\n",
              "          await google.colab.output.renderOutput(dataTable, element);\n",
              "          const docLink = document.createElement('div');\n",
              "          docLink.innerHTML = docLinkHtml;\n",
              "          element.appendChild(docLink);\n",
              "        }\n",
              "      </script>\n",
              "    </div>\n",
              "  </div>\n",
              "  "
            ]
          },
          "metadata": {},
          "execution_count": 169
        }
      ],
      "source": [
        "df.describe()"
      ]
    },
    {
      "cell_type": "markdown",
      "metadata": {
        "id": "K7LN5bAFwz-8"
      },
      "source": [
        "Looks like the length, votes and gross columns may have some outliers. we'll use matplotlib to visualize the data"
      ]
    },
    {
      "cell_type": "code",
      "execution_count": null,
      "metadata": {
        "colab": {
          "base_uri": "https://localhost:8080/",
          "height": 465
        },
        "id": "-ZMFBmW-qezl",
        "outputId": "42f7bd3a-b7e8-4479-bfdc-1dcfed55530e"
      },
      "outputs": [
        {
          "output_type": "display_data",
          "data": {
            "text/plain": [
              "<Figure size 500x500 with 1 Axes>"
            ],
            "image/png": "[encoded data removed]"
          },
          "metadata": {}
        }
      ],
      "source": [
        "num_cols = ['length']\n",
        "plt.figure(figsize=(5,5))\n",
        "df[num_cols].boxplot()\n",
        "plt.title(\"Length values\", fontsize=10)\n",
        "plt.show()"
      ]
    },
    {
      "cell_type": "code",
      "execution_count": null,
      "metadata": {
        "colab": {
          "base_uri": "https://localhost:8080/",
          "height": 465
        },
        "id": "o6jWBYHrmU3P",
        "outputId": "575732cf-188c-4a83-dbaa-621af20c6ac8"
      },
      "outputs": [
        {
          "output_type": "display_data",
          "data": {
            "text/plain": [
              "<Figure size 500x500 with 1 Axes>"
            ],
            "image/png": "[encoded data removed]"
          },
          "metadata": {}
        }
      ],
      "source": [
        "num_cols = ['votes']\n",
        "plt.figure(figsize=(5,5))\n",
        "df[num_cols].boxplot()\n",
        "plt.title(\"Votes values\", fontsize=10)\n",
        "plt.show()"
      ]
    },
    {
      "cell_type": "code",
      "execution_count": null,
      "metadata": {
        "colab": {
          "base_uri": "https://localhost:8080/",
          "height": 465
        },
        "id": "p14NlbX-8dWe",
        "outputId": "f0c15a19-76c9-4b73-b0ab-0d834ccf662f"
      },
      "outputs": [
        {
          "output_type": "display_data",
          "data": {
            "text/plain": [
              "<Figure size 500x500 with 1 Axes>"
            ],
            "image/png": "[encoded data removed]"
          },
          "metadata": {}
        }
      ],
      "source": [
        "num_cols = ['gross']\n",
        "plt.figure(figsize=(5,5))\n",
        "df[num_cols].boxplot()\n",
        "plt.title(\"Gross values\", fontsize=10)\n",
        "plt.show()"
      ]
    },
    {
      "cell_type": "markdown",
      "metadata": {
        "id": "RvJOGA1cJXwO"
      },
      "source": [
        "# Preprocessing\n",
        "\n"
      ]
    },
    {
      "cell_type": "markdown",
      "metadata": {
        "id": "LiOrXB01UzUd"
      },
      "source": [
        "## Pipeline :\n",
        "1.   Feature selection\n",
        "2.   Feature engineering :\n",
        "  *   Create a new column - weighted rating\n",
        "  *   Group values in certificate column\n",
        "  *   One-hot encoding of categorcial columns\n",
        "3. Handling missing values and outliers - using regression\n",
        "4. Normalization / scaling - bring numeric columns to the same range\n",
        "5. Checking Information gain and scaling"
      ]
    },
    {
      "cell_type": "markdown",
      "metadata": {
        "id": "5HVu4qQ-xDCG"
      },
      "source": [
        "## Feature selection\n",
        "We'll drop the data ID , title and description columns , they are not needed for us"
      ]
    },
    {
      "cell_type": "code",
      "execution_count": null,
      "metadata": {
        "colab": {
          "base_uri": "https://localhost:8080/"
        },
        "id": "Dd9D44b0v9x7",
        "outputId": "4984b51d-ad54-41de-acad-5f9650990239"
      },
      "outputs": [
        {
          "output_type": "execute_result",
          "data": {
            "text/plain": [
              "Index(['contentType', 'length', 'releaseYear', 'endYear', 'votes', 'rating',\n",
              "       'gross', 'certificate', 'region', 'genre'],\n",
              "      dtype='object')"
            ]
          },
          "metadata": {},
          "execution_count": 173
        }
      ],
      "source": [
        "df = df.drop(columns=['dataId','title', 'description'])\n",
        "df.columns"
      ]
    },
    {
      "cell_type": "code",
      "execution_count": null,
      "metadata": {
        "colab": {
          "base_uri": "https://localhost:8080/"
        },
        "id": "voNMGPL06-Vc",
        "outputId": "edb3fafd-2fb3-40ad-cf4b-e0287622865a"
      },
      "outputs": [
        {
          "output_type": "stream",
          "name": "stdout",
          "text": [
            "<class 'pandas.core.frame.DataFrame'>\n",
            "Int64Index: 101605 entries, 0 to 101604\n",
            "Data columns (total 10 columns):\n",
            " #   Column       Non-Null Count   Dtype  \n",
            "---  ------       --------------   -----  \n",
            " 0   contentType  101605 non-null  object \n",
            " 1   length       93894 non-null   float64\n",
            " 2   releaseYear  95416 non-null   float64\n",
            " 3   endYear      10269 non-null   float64\n",
            " 4   votes        101604 non-null  float64\n",
            " 5   rating       101605 non-null  float64\n",
            " 6   gross        14649 non-null   float64\n",
            " 7   certificate  58357 non-null   object \n",
            " 8   region       101605 non-null  object \n",
            " 9   genre        101605 non-null  object \n",
            "dtypes: float64(6), object(4)\n",
            "memory usage: 8.5+ MB\n"
          ]
        }
      ],
      "source": [
        "df.info()"
      ]
    },
    {
      "cell_type": "markdown",
      "metadata": {
        "id": "wjFvAhSVpuPp"
      },
      "source": [
        "## Feature engineering\n",
        "\n"
      ]
    },
    {
      "cell_type": "markdown",
      "metadata": {
        "id": "s4gQBxqFAsRJ"
      },
      "source": [
        "### Create a new column - weighted rating"
      ]
    },
    {
      "cell_type": "code",
      "execution_count": null,
      "metadata": {
        "id": "NfiNxN86PfL9"
      },
      "outputs": [],
      "source": [
        "df['weight'] = (df['votes'] / df['votes'].sum()) * 10000\n",
        "df['weighted_rating'] = df['rating'] * df['weight']\n",
        "df.dropna(subset=['votes'], inplace=True)"
      ]
    },
    {
      "cell_type": "code",
      "execution_count": null,
      "metadata": {
        "colab": {
          "base_uri": "https://localhost:8080/",
          "height": 465
        },
        "id": "Izahpqv5SKpP",
        "outputId": "20e31fde-dae3-4883-ddb5-c2ffcc5d9775"
      },
      "outputs": [
        {
          "output_type": "display_data",
          "data": {
            "text/plain": [
              "<Figure size 500x500 with 1 Axes>"
            ],
            "image/png": "[encoded data removed]"
          },
          "metadata": {}
        }
      ],
      "source": [
        "num_cols = ['weighted_rating']\n",
        "plt.figure(figsize=(5,5))\n",
        "df[num_cols].boxplot()\n",
        "plt.title(\"Weighted rating values\", fontsize=10)\n",
        "plt.show()"
      ]
    },
    {
      "cell_type": "code",
      "execution_count": null,
      "metadata": {
        "colab": {
          "base_uri": "https://localhost:8080/"
        },
        "id": "mwCdwNrB6kB-",
        "outputId": "a77f97d3-a3c2-4d8f-c130-379dd877cb41"
      },
      "outputs": [
        {
          "output_type": "execute_result",
          "data": {
            "text/plain": [
              "count    101604.000000\n",
              "mean          0.704442\n",
              "std           4.231139\n",
              "min           0.001069\n",
              "25%           0.023646\n",
              "50%           0.050696\n",
              "75%           0.170947\n",
              "max         219.564780\n",
              "Name: weighted_rating, dtype: float64"
            ]
          },
          "metadata": {},
          "execution_count": 177
        }
      ],
      "source": [
        "df['weighted_rating'].describe()"
      ]
    },
    {
      "cell_type": "markdown",
      "metadata": {
        "id": "ENMe3WEZSL9Y"
      },
      "source": [
        "Create rating category column so the data will fit the model , the different models will determine whether the entry's rating is low , medium or high (presented as : 0 - low , 1 - medium , 2 - high)"
      ]
    },
    {
      "cell_type": "code",
      "execution_count": null,
      "metadata": {
        "id": "H0deCbYGZlBi"
      },
      "outputs": [],
      "source": [
        "# Define the quartile values\n",
        "q1 = df['weighted_rating'].quantile(0.25)\n",
        "q2 = df['weighted_rating'].quantile(0.50)\n",
        "q3 = df['weighted_rating'].quantile(0.75)\n",
        "\n",
        "# Categorize 'weighted_rating' based on quartiles\n",
        "df['rating_category'] = pd.cut(df['weighted_rating'], bins=[-float('inf'), q1, q2, float('inf')], labels=[0, 1, 2])"
      ]
    },
    {
      "cell_type": "markdown",
      "metadata": {
        "id": "6sYHWK8cDfb3"
      },
      "source": [
        "We'll drop these columns because we made rating_category column"
      ]
    },
    {
      "cell_type": "code",
      "execution_count": null,
      "metadata": {
        "id": "mnzYTIt-TgNC"
      },
      "outputs": [],
      "source": [
        "df = df.drop(['votes', 'rating', 'weight', 'weighted_rating'], axis=1)"
      ]
    },
    {
      "cell_type": "markdown",
      "metadata": {
        "id": "BP3QcfBBqpJK"
      },
      "source": [
        "### Group values\n",
        "\n",
        "Let's take a closer look at the certificate column"
      ]
    },
    {
      "cell_type": "code",
      "execution_count": null,
      "metadata": {
        "colab": {
          "base_uri": "https://localhost:8080/"
        },
        "id": "no4fR9_7o-sZ",
        "outputId": "e0970167-3262-49f8-88e5-8dfe231906de"
      },
      "outputs": [
        {
          "output_type": "execute_result",
          "data": {
            "text/plain": [
              "array([nan, 'Not Rated', 'Unrated', 'TV-MA', 'PG', 'Passed', 'R', 'TV-14',\n",
              "       'Approved', 'PG-13', 'TV-PG', 'TV-G', 'G', 'GP', 'X', 'TV-Y7-FV',\n",
              "       'TV-Y7', 'M', 'TV-Y', 'M/PG', '16+', '18+', 'F', 'NC-17', '18',\n",
              "       'EM', 'AO', 'TV-13', '13+', 'Open', 'E', 'E10+', 'T', 'MA-17',\n",
              "       '12'], dtype=object)"
            ]
          },
          "metadata": {},
          "execution_count": 180
        }
      ],
      "source": [
        "df['certificate'].unique()"
      ]
    },
    {
      "cell_type": "markdown",
      "metadata": {
        "id": "NOe54DvprBg9"
      },
      "source": [
        "We'll try to group similar certificates :\n",
        "\n",
        "* 'TV-Y7-FV', 'TV-Y7', 'TV-Y', 'TV-G', 'G', 'E', 'T' ,'PG', 'TV-PG', 'E10+', 'Passed', 'Approved'  => All Ages\n",
        "\n",
        "* 'PG-13', 'M/PG', 'TV-13', '13+', '12' , 'TV-14', 'GP', 'M' => Teen\n",
        "\n",
        "* 'TV-MA', 'MA-17', '16+', '18+', '18', 'NC-17', 'R', 'X', => Adults\n",
        "\n",
        "* nan, 'Not Rated', 'Unrated', 'Open', 'F', 'EM', 'AO'  => 'Unknown'"
      ]
    },
    {
      "cell_type": "code",
      "execution_count": null,
      "metadata": {
        "colab": {
          "base_uri": "https://localhost:8080/"
        },
        "id": "pHwbos_72_pG",
        "outputId": "c35827b8-7620-483d-cd21-ae88eb8ae220"
      },
      "outputs": [
        {
          "output_type": "execute_result",
          "data": {
            "text/plain": [
              "array(['Unknown', 'Adults', 'All Ages', 'Teen'], dtype=object)"
            ]
          },
          "metadata": {},
          "execution_count": 181
        }
      ],
      "source": [
        "group_mapping = {\n",
        "    'TV-Y7-FV': 'All Ages', 'TV-Y7': 'All Ages', 'TV-Y': 'All Ages', 'TV-G': 'All Ages', 'G': 'All Ages', 'E': 'All Ages', 'T': 'All Ages',\n",
        "    'PG': 'All Ages', 'TV-PG': 'All Ages', 'E10+': 'All Ages', 'Passed': 'All Ages', 'Approved': 'All Ages',\n",
        "\n",
        "    'PG-13': 'Teen','M/PG': 'Teen','TV-13': 'Teen','Teen': 'Teen','12': 'Teen','TV-14': 'Teen','GP': 'Teen', 'M': 'Teen',\n",
        "\n",
        "    'TV-MA': 'Adults','MA-17': 'Adults','16+': 'Adults','18+': 'Adults','18': 'Adults','NC-17': 'Adults','R': 'Adults','X': 'Adults',\n",
        "\n",
        "    'Not Rated': 'Unknown','Unrated': 'Unknown','Open': 'Unknown','F': 'Unknown','EM': 'Unknown','AO': 'Unknown'}\n",
        "\n",
        "df['certificate'] = df['certificate'].map(group_mapping)\n",
        "df['certificate'] = df['certificate'].fillna('Unknown')\n",
        "\n",
        "df['certificate'].unique()"
      ]
    },
    {
      "cell_type": "markdown",
      "metadata": {
        "id": "XFyL12_oCQQu"
      },
      "source": [
        "### One-Hot Encoding\n",
        "\n",
        "We'll one-hot encoding of categorcial columns"
      ]
    },
    {
      "cell_type": "code",
      "execution_count": null,
      "metadata": {
        "id": "XuBMgK18CQrM"
      },
      "outputs": [],
      "source": [
        "columns_to_encode = ['contentType', 'certificate']\n",
        "df = pd.get_dummies(df, columns=columns_to_encode)"
      ]
    },
    {
      "cell_type": "markdown",
      "metadata": {
        "id": "Zo0KJh9kTEMS"
      },
      "source": [
        "This time we're choosing the top 3 categories"
      ]
    },
    {
      "cell_type": "code",
      "execution_count": null,
      "metadata": {
        "id": "bdlFbg-oF3mL"
      },
      "outputs": [],
      "source": [
        "country_counts = df['region'].apply(pd.Series).stack().value_counts()\n",
        "\n",
        "selected_countries = country_counts.head(5).index\n",
        "for country in selected_countries:\n",
        "    column_name = f\"region_{country}\"\n",
        "    df[column_name] = df['region'].apply(lambda x: 1 if country in x else 0)\n",
        "\n",
        "df['region_other'] = df['region'].apply(lambda x: 1 if not any(country in x for country in selected_countries) else 0)"
      ]
    },
    {
      "cell_type": "code",
      "execution_count": null,
      "metadata": {
        "id": "-DDBKfUsLHEI"
      },
      "outputs": [],
      "source": [
        "genre_counts = df['genre'].apply(pd.Series).stack().value_counts()\n",
        "\n",
        "selected_genres = genre_counts.head(5).index\n",
        "for genre_type in selected_genres:\n",
        "    column_name = f\"genre_{genre_type}\"\n",
        "    df[column_name] = df['genre'].apply(lambda x: 1 if genre_type in x else 0)\n",
        "\n",
        "df['genre_other'] = df['genre'].apply(lambda x: 1 if not any(genre_type in x for genre_type in selected_genres) else 0)"
      ]
    },
    {
      "cell_type": "code",
      "execution_count": null,
      "metadata": {
        "id": "PTl95zUibzlI"
      },
      "outputs": [],
      "source": [
        "df = df.drop(columns=['genre','region'])"
      ]
    },
    {
      "cell_type": "code",
      "execution_count": null,
      "metadata": {
        "colab": {
          "base_uri": "https://localhost:8080/"
        },
        "id": "BOw5L-v5Nemj",
        "outputId": "fcd53864-96b5-4ff4-ff12-6d7d1378ac33"
      },
      "outputs": [
        {
          "output_type": "execute_result",
          "data": {
            "text/plain": [
              "Index(['length', 'releaseYear', 'endYear', 'gross', 'rating_category',\n",
              "       'contentType_movie', 'contentType_tvSeries', 'certificate_Adults',\n",
              "       'certificate_All Ages', 'certificate_Teen', 'certificate_Unknown',\n",
              "       'region_United States', 'region_United Kingdom', 'region_France',\n",
              "       'region_India', 'region_Canada', 'region_other', 'genre_Drama',\n",
              "       'genre_Comedy', 'genre_Romance', 'genre_Action', 'genre_Crime',\n",
              "       'genre_other'],\n",
              "      dtype='object')"
            ]
          },
          "metadata": {},
          "execution_count": 186
        }
      ],
      "source": [
        "df.columns"
      ]
    },
    {
      "cell_type": "markdown",
      "metadata": {
        "id": "prIChlwnDGi1"
      },
      "source": [
        "We'll change the new columns' dtype to category"
      ]
    },
    {
      "cell_type": "code",
      "execution_count": null,
      "metadata": {
        "id": "4805tvCpWt1n"
      },
      "outputs": [],
      "source": [
        "for column in df.columns:\n",
        "  if column.startswith('contentType') or column.startswith('certificate') or column.startswith('region') or column.startswith('genre'):\n",
        "    df[column] = df[column].astype('category')"
      ]
    },
    {
      "cell_type": "markdown",
      "metadata": {
        "id": "KkQztdVBElqY"
      },
      "source": [
        "## Handling missing values and outliers\n",
        "There seems to be a lot of missing values in this dataframe , let's look at the percentage of missing values in each column"
      ]
    },
    {
      "cell_type": "code",
      "execution_count": null,
      "metadata": {
        "colab": {
          "base_uri": "https://localhost:8080/",
          "height": 770
        },
        "id": "xVxKFinS6l2E",
        "outputId": "4da93bb7-9308-4efd-9d4b-6ed4320091e5"
      },
      "outputs": [
        {
          "output_type": "execute_result",
          "data": {
            "text/plain": [
              "                       total_missing  perc_missing\n",
              "length                          7711      7.589268\n",
              "releaseYear                     6189      6.091296\n",
              "endYear                        91335     89.893114\n",
              "gross                          86955     85.582261\n",
              "rating_category                    0      0.000000\n",
              "contentType_movie                  0      0.000000\n",
              "contentType_tvSeries               0      0.000000\n",
              "certificate_Adults                 0      0.000000\n",
              "certificate_All Ages               0      0.000000\n",
              "certificate_Teen                   0      0.000000\n",
              "certificate_Unknown                0      0.000000\n",
              "region_United States               0      0.000000\n",
              "region_United Kingdom              0      0.000000\n",
              "region_France                      0      0.000000\n",
              "region_India                       0      0.000000\n",
              "region_Canada                      0      0.000000\n",
              "region_other                       0      0.000000\n",
              "genre_Drama                        0      0.000000\n",
              "genre_Comedy                       0      0.000000\n",
              "genre_Romance                      0      0.000000\n",
              "genre_Action                       0      0.000000\n",
              "genre_Crime                        0      0.000000\n",
              "genre_other                        0      0.000000"
            ],
            "text/html": [
              "\n",
              "  <div id=\"df-b62fccdb-988b-4c07-893f-b3b36b3732ff\">\n",
              "    <div class=\"colab-df-container\">\n",
              "      <div>\n",
              "<style scoped>\n",
              "    .dataframe tbody tr th:only-of-type {\n",
              "        vertical-align: middle;\n",
              "    }\n",
              "\n",
              "    .dataframe tbody tr th {\n",
              "        vertical-align: top;\n",
              "    }\n",
              "\n",
              "    .dataframe thead th {\n",
              "        text-align: right;\n",
              "    }\n",
              "</style>\n",
              "<table border=\"1\" class=\"dataframe\">\n",
              "  <thead>\n",
              "    <tr style=\"text-align: right;\">\n",
              "      <th></th>\n",
              "      <th>total_missing</th>\n",
              "      <th>perc_missing</th>\n",
              "    </tr>\n",
              "  </thead>\n",
              "  <tbody>\n",
              "    <tr>\n",
              "      <th>length</th>\n",
              "      <td>7711</td>\n",
              "      <td>7.589268</td>\n",
              "    </tr>\n",
              "    <tr>\n",
              "      <th>releaseYear</th>\n",
              "      <td>6189</td>\n",
              "      <td>6.091296</td>\n",
              "    </tr>\n",
              "    <tr>\n",
              "      <th>endYear</th>\n",
              "      <td>91335</td>\n",
              "      <td>89.893114</td>\n",
              "    </tr>\n",
              "    <tr>\n",
              "      <th>gross</th>\n",
              "      <td>86955</td>\n",
              "      <td>85.582261</td>\n",
              "    </tr>\n",
              "    <tr>\n",
              "      <th>rating_category</th>\n",
              "      <td>0</td>\n",
              "      <td>0.000000</td>\n",
              "    </tr>\n",
              "    <tr>\n",
              "      <th>contentType_movie</th>\n",
              "      <td>0</td>\n",
              "      <td>0.000000</td>\n",
              "    </tr>\n",
              "    <tr>\n",
              "      <th>contentType_tvSeries</th>\n",
              "      <td>0</td>\n",
              "      <td>0.000000</td>\n",
              "    </tr>\n",
              "    <tr>\n",
              "      <th>certificate_Adults</th>\n",
              "      <td>0</td>\n",
              "      <td>0.000000</td>\n",
              "    </tr>\n",
              "    <tr>\n",
              "      <th>certificate_All Ages</th>\n",
              "      <td>0</td>\n",
              "      <td>0.000000</td>\n",
              "    </tr>\n",
              "    <tr>\n",
              "      <th>certificate_Teen</th>\n",
              "      <td>0</td>\n",
              "      <td>0.000000</td>\n",
              "    </tr>\n",
              "    <tr>\n",
              "      <th>certificate_Unknown</th>\n",
              "      <td>0</td>\n",
              "      <td>0.000000</td>\n",
              "    </tr>\n",
              "    <tr>\n",
              "      <th>region_United States</th>\n",
              "      <td>0</td>\n",
              "      <td>0.000000</td>\n",
              "    </tr>\n",
              "    <tr>\n",
              "      <th>region_United Kingdom</th>\n",
              "      <td>0</td>\n",
              "      <td>0.000000</td>\n",
              "    </tr>\n",
              "    <tr>\n",
              "      <th>region_France</th>\n",
              "      <td>0</td>\n",
              "      <td>0.000000</td>\n",
              "    </tr>\n",
              "    <tr>\n",
              "      <th>region_India</th>\n",
              "      <td>0</td>\n",
              "      <td>0.000000</td>\n",
              "    </tr>\n",
              "    <tr>\n",
              "      <th>region_Canada</th>\n",
              "      <td>0</td>\n",
              "      <td>0.000000</td>\n",
              "    </tr>\n",
              "    <tr>\n",
              "      <th>region_other</th>\n",
              "      <td>0</td>\n",
              "      <td>0.000000</td>\n",
              "    </tr>\n",
              "    <tr>\n",
              "      <th>genre_Drama</th>\n",
              "      <td>0</td>\n",
              "      <td>0.000000</td>\n",
              "    </tr>\n",
              "    <tr>\n",
              "      <th>genre_Comedy</th>\n",
              "      <td>0</td>\n",
              "      <td>0.000000</td>\n",
              "    </tr>\n",
              "    <tr>\n",
              "      <th>genre_Romance</th>\n",
              "      <td>0</td>\n",
              "      <td>0.000000</td>\n",
              "    </tr>\n",
              "    <tr>\n",
              "      <th>genre_Action</th>\n",
              "      <td>0</td>\n",
              "      <td>0.000000</td>\n",
              "    </tr>\n",
              "    <tr>\n",
              "      <th>genre_Crime</th>\n",
              "      <td>0</td>\n",
              "      <td>0.000000</td>\n",
              "    </tr>\n",
              "    <tr>\n",
              "      <th>genre_other</th>\n",
              "      <td>0</td>\n",
              "      <td>0.000000</td>\n",
              "    </tr>\n",
              "  </tbody>\n",
              "</table>\n",
              "</div>\n",
              "      <button class=\"colab-df-convert\" onclick=\"convertToInteractive('df-b62fccdb-988b-4c07-893f-b3b36b3732ff')\"\n",
              "              title=\"Convert this dataframe to an interactive table.\"\n",
              "              style=\"display:none;\">\n",
              "        \n",
              "  <svg xmlns=\"http://www.w3.org/2000/svg\" height=\"24px\"viewBox=\"0 0 24 24\"\n",
              "       width=\"24px\">\n",
              "    <path d=\"M0 0h24v24H0V0z\" fill=\"none\"/>\n",
              "    <path d=\"M18.56 5.44l.94 2.06.94-2.06 2.06-.94-2.06-.94-.94-2.06-.94 2.06-2.06.94zm-11 1L8.5 8.5l.94-2.06 2.06-.94-2.06-.94L8.5 2.5l-.94 2.06-2.06.94zm10 10l.94 2.06.94-2.06 2.06-.94-2.06-.94-.94-2.06-.94 2.06-2.06.94z\"/><path d=\"M17.41 7.96l-1.37-1.37c-.4-.4-.92-.59-1.43-.59-.52 0-1.04.2-1.43.59L10.3 9.45l-7.72 7.72c-.78.78-.78 2.05 0 2.83L4 21.41c.39.39.9.59 1.41.59.51 0 1.02-.2 1.41-.59l7.78-7.78 2.81-2.81c.8-.78.8-2.07 0-2.86zM5.41 20L4 18.59l7.72-7.72 1.47 1.35L5.41 20z\"/>\n",
              "  </svg>\n",
              "      </button>\n",
              "      \n",
              "  <style>\n",
              "    .colab-df-container {\n",
              "      display:flex;\n",
              "      flex-wrap:wrap;\n",
              "      gap: 12px;\n",
              "    }\n",
              "\n",
              "    .colab-df-convert {\n",
              "      background-color: #E8F0FE;\n",
              "      border: none;\n",
              "      border-radius: 50%;\n",
              "      cursor: pointer;\n",
              "      display: none;\n",
              "      fill: #1967D2;\n",
              "      height: 32px;\n",
              "      padding: 0 0 0 0;\n",
              "      width: 32px;\n",
              "    }\n",
              "\n",
              "    .colab-df-convert:hover {\n",
              "      background-color: #E2EBFA;\n",
              "      box-shadow: 0px 1px 2px rgba(60, 64, 67, 0.3), 0px 1px 3px 1px rgba(60, 64, 67, 0.15);\n",
              "      fill: #174EA6;\n",
              "    }\n",
              "\n",
              "    [theme=dark] .colab-df-convert {\n",
              "      background-color: #3B4455;\n",
              "      fill: #D2E3FC;\n",
              "    }\n",
              "\n",
              "    [theme=dark] .colab-df-convert:hover {\n",
              "      background-color: #434B5C;\n",
              "      box-shadow: 0px 1px 3px 1px rgba(0, 0, 0, 0.15);\n",
              "      filter: drop-shadow(0px 1px 2px rgba(0, 0, 0, 0.3));\n",
              "      fill: #FFFFFF;\n",
              "    }\n",
              "  </style>\n",
              "\n",
              "      <script>\n",
              "        const buttonEl =\n",
              "          document.querySelector('#df-b62fccdb-988b-4c07-893f-b3b36b3732ff button.colab-df-convert');\n",
              "        buttonEl.style.display =\n",
              "          google.colab.kernel.accessAllowed ? 'block' : 'none';\n",
              "\n",
              "        async function convertToInteractive(key) {\n",
              "          const element = document.querySelector('#df-b62fccdb-988b-4c07-893f-b3b36b3732ff');\n",
              "          const dataTable =\n",
              "            await google.colab.kernel.invokeFunction('convertToInteractive',\n",
              "                                                     [key], {});\n",
              "          if (!dataTable) return;\n",
              "\n",
              "          const docLinkHtml = 'Like what you see? Visit the ' +\n",
              "            '<a target=\"_blank\" href=https://colab.research.google.com/notebooks/data_table.ipynb>data table notebook</a>'\n",
              "            + ' to learn more about interactive tables.';\n",
              "          element.innerHTML = '';\n",
              "          dataTable['output_type'] = 'display_data';\n",
              "          await google.colab.output.renderOutput(dataTable, element);\n",
              "          const docLink = document.createElement('div');\n",
              "          docLink.innerHTML = docLinkHtml;\n",
              "          element.appendChild(docLink);\n",
              "        }\n",
              "      </script>\n",
              "    </div>\n",
              "  </div>\n",
              "  "
            ]
          },
          "metadata": {},
          "execution_count": 188
        }
      ],
      "source": [
        "missing_data_prime = pd.DataFrame({'total_missing': df.isnull().sum(), 'perc_missing': (df.isnull().sum() / len(df)) * 100})\n",
        "missing_data_prime"
      ]
    },
    {
      "cell_type": "markdown",
      "metadata": {
        "id": "R-2AWqqChL9q"
      },
      "source": [
        "We'll use HistGradientBoostingRegressor model to try and predict the missing values and outliers , first we'll use the describe method to identify the change in our data after our actions  "
      ]
    },
    {
      "cell_type": "code",
      "execution_count": null,
      "metadata": {
        "colab": {
          "base_uri": "https://localhost:8080/",
          "height": 300
        },
        "id": "CfcjHdXHb5-i",
        "outputId": "9e6a7301-69aa-4311-f7a5-a8985802a872"
      },
      "outputs": [
        {
          "output_type": "execute_result",
          "data": {
            "text/plain": [
              "             length   releaseYear       endYear         gross\n",
              "count  93893.000000  95415.000000  10269.000000  1.464900e+04\n",
              "mean      89.383724   1999.595693   2005.462362  2.086515e+07\n",
              "std       60.213542     23.279795     15.212239  5.040152e+07\n",
              "min        1.000000   1874.000000   1952.000000  0.000000e+00\n",
              "25%       61.000000   1991.000000   1998.000000  1.600000e+05\n",
              "50%       91.000000   2008.000000   2010.000000  1.980000e+06\n",
              "75%      106.000000   2016.000000   2017.000000  1.882000e+07\n",
              "max     5220.000000   2023.000000   2024.000000  9.366600e+08"
            ],
            "text/html": [
              "\n",
              "  <div id=\"df-afa9ed1a-2652-4b75-95a0-46cabc099cec\">\n",
              "    <div class=\"colab-df-container\">\n",
              "      <div>\n",
              "<style scoped>\n",
              "    .dataframe tbody tr th:only-of-type {\n",
              "        vertical-align: middle;\n",
              "    }\n",
              "\n",
              "    .dataframe tbody tr th {\n",
              "        vertical-align: top;\n",
              "    }\n",
              "\n",
              "    .dataframe thead th {\n",
              "        text-align: right;\n",
              "    }\n",
              "</style>\n",
              "<table border=\"1\" class=\"dataframe\">\n",
              "  <thead>\n",
              "    <tr style=\"text-align: right;\">\n",
              "      <th></th>\n",
              "      <th>length</th>\n",
              "      <th>releaseYear</th>\n",
              "      <th>endYear</th>\n",
              "      <th>gross</th>\n",
              "    </tr>\n",
              "  </thead>\n",
              "  <tbody>\n",
              "    <tr>\n",
              "      <th>count</th>\n",
              "      <td>93893.000000</td>\n",
              "      <td>95415.000000</td>\n",
              "      <td>10269.000000</td>\n",
              "      <td>1.464900e+04</td>\n",
              "    </tr>\n",
              "    <tr>\n",
              "      <th>mean</th>\n",
              "      <td>89.383724</td>\n",
              "      <td>1999.595693</td>\n",
              "      <td>2005.462362</td>\n",
              "      <td>2.086515e+07</td>\n",
              "    </tr>\n",
              "    <tr>\n",
              "      <th>std</th>\n",
              "      <td>60.213542</td>\n",
              "      <td>23.279795</td>\n",
              "      <td>15.212239</td>\n",
              "      <td>5.040152e+07</td>\n",
              "    </tr>\n",
              "    <tr>\n",
              "      <th>min</th>\n",
              "      <td>1.000000</td>\n",
              "      <td>1874.000000</td>\n",
              "      <td>1952.000000</td>\n",
              "      <td>0.000000e+00</td>\n",
              "    </tr>\n",
              "    <tr>\n",
              "      <th>25%</th>\n",
              "      <td>61.000000</td>\n",
              "      <td>1991.000000</td>\n",
              "      <td>1998.000000</td>\n",
              "      <td>1.600000e+05</td>\n",
              "    </tr>\n",
              "    <tr>\n",
              "      <th>50%</th>\n",
              "      <td>91.000000</td>\n",
              "      <td>2008.000000</td>\n",
              "      <td>2010.000000</td>\n",
              "      <td>1.980000e+06</td>\n",
              "    </tr>\n",
              "    <tr>\n",
              "      <th>75%</th>\n",
              "      <td>106.000000</td>\n",
              "      <td>2016.000000</td>\n",
              "      <td>2017.000000</td>\n",
              "      <td>1.882000e+07</td>\n",
              "    </tr>\n",
              "    <tr>\n",
              "      <th>max</th>\n",
              "      <td>5220.000000</td>\n",
              "      <td>2023.000000</td>\n",
              "      <td>2024.000000</td>\n",
              "      <td>9.366600e+08</td>\n",
              "    </tr>\n",
              "  </tbody>\n",
              "</table>\n",
              "</div>\n",
              "      <button class=\"colab-df-convert\" onclick=\"convertToInteractive('df-afa9ed1a-2652-4b75-95a0-46cabc099cec')\"\n",
              "              title=\"Convert this dataframe to an interactive table.\"\n",
              "              style=\"display:none;\">\n",
              "        \n",
              "  <svg xmlns=\"http://www.w3.org/2000/svg\" height=\"24px\"viewBox=\"0 0 24 24\"\n",
              "       width=\"24px\">\n",
              "    <path d=\"M0 0h24v24H0V0z\" fill=\"none\"/>\n",
              "    <path d=\"M18.56 5.44l.94 2.06.94-2.06 2.06-.94-2.06-.94-.94-2.06-.94 2.06-2.06.94zm-11 1L8.5 8.5l.94-2.06 2.06-.94-2.06-.94L8.5 2.5l-.94 2.06-2.06.94zm10 10l.94 2.06.94-2.06 2.06-.94-2.06-.94-.94-2.06-.94 2.06-2.06.94z\"/><path d=\"M17.41 7.96l-1.37-1.37c-.4-.4-.92-.59-1.43-.59-.52 0-1.04.2-1.43.59L10.3 9.45l-7.72 7.72c-.78.78-.78 2.05 0 2.83L4 21.41c.39.39.9.59 1.41.59.51 0 1.02-.2 1.41-.59l7.78-7.78 2.81-2.81c.8-.78.8-2.07 0-2.86zM5.41 20L4 18.59l7.72-7.72 1.47 1.35L5.41 20z\"/>\n",
              "  </svg>\n",
              "      </button>\n",
              "      \n",
              "  <style>\n",
              "    .colab-df-container {\n",
              "      display:flex;\n",
              "      flex-wrap:wrap;\n",
              "      gap: 12px;\n",
              "    }\n",
              "\n",
              "    .colab-df-convert {\n",
              "      background-color: #E8F0FE;\n",
              "      border: none;\n",
              "      border-radius: 50%;\n",
              "      cursor: pointer;\n",
              "      display: none;\n",
              "      fill: #1967D2;\n",
              "      height: 32px;\n",
              "      padding: 0 0 0 0;\n",
              "      width: 32px;\n",
              "    }\n",
              "\n",
              "    .colab-df-convert:hover {\n",
              "      background-color: #E2EBFA;\n",
              "      box-shadow: 0px 1px 2px rgba(60, 64, 67, 0.3), 0px 1px 3px 1px rgba(60, 64, 67, 0.15);\n",
              "      fill: #174EA6;\n",
              "    }\n",
              "\n",
              "    [theme=dark] .colab-df-convert {\n",
              "      background-color: #3B4455;\n",
              "      fill: #D2E3FC;\n",
              "    }\n",
              "\n",
              "    [theme=dark] .colab-df-convert:hover {\n",
              "      background-color: #434B5C;\n",
              "      box-shadow: 0px 1px 3px 1px rgba(0, 0, 0, 0.15);\n",
              "      filter: drop-shadow(0px 1px 2px rgba(0, 0, 0, 0.3));\n",
              "      fill: #FFFFFF;\n",
              "    }\n",
              "  </style>\n",
              "\n",
              "      <script>\n",
              "        const buttonEl =\n",
              "          document.querySelector('#df-afa9ed1a-2652-4b75-95a0-46cabc099cec button.colab-df-convert');\n",
              "        buttonEl.style.display =\n",
              "          google.colab.kernel.accessAllowed ? 'block' : 'none';\n",
              "\n",
              "        async function convertToInteractive(key) {\n",
              "          const element = document.querySelector('#df-afa9ed1a-2652-4b75-95a0-46cabc099cec');\n",
              "          const dataTable =\n",
              "            await google.colab.kernel.invokeFunction('convertToInteractive',\n",
              "                                                     [key], {});\n",
              "          if (!dataTable) return;\n",
              "\n",
              "          const docLinkHtml = 'Like what you see? Visit the ' +\n",
              "            '<a target=\"_blank\" href=https://colab.research.google.com/notebooks/data_table.ipynb>data table notebook</a>'\n",
              "            + ' to learn more about interactive tables.';\n",
              "          element.innerHTML = '';\n",
              "          dataTable['output_type'] = 'display_data';\n",
              "          await google.colab.output.renderOutput(dataTable, element);\n",
              "          const docLink = document.createElement('div');\n",
              "          docLink.innerHTML = docLinkHtml;\n",
              "          element.appendChild(docLink);\n",
              "        }\n",
              "      </script>\n",
              "    </div>\n",
              "  </div>\n",
              "  "
            ]
          },
          "metadata": {},
          "execution_count": 189
        }
      ],
      "source": [
        "df.describe()"
      ]
    },
    {
      "cell_type": "markdown",
      "metadata": {
        "id": "-cAadqH7vsOV"
      },
      "source": [
        "Here we're predicting the missing values in \"length\", \"releaseYear\", \"endYear\", \"gross\" and \"weighted_rating\" columns"
      ]
    },
    {
      "cell_type": "code",
      "execution_count": null,
      "metadata": {
        "id": "conjiSpz42iz"
      },
      "outputs": [],
      "source": [
        "# Identify the features with missing values\n",
        "features_with_missing_values = [\"length\", \"releaseYear\", \"endYear\", \"gross\"]\n",
        "\n",
        "# Iterate over features with missing values\n",
        "for feature in features_with_missing_values:\n",
        "    # Split the data into training and test sets\n",
        "    X_train = df[~np.isnan(df[feature])].drop(features_with_missing_values, axis=1)\n",
        "    y_train = df.loc[~np.isnan(df[feature]), feature]\n",
        "    X_test = df[np.isnan(df[feature])].drop(features_with_missing_values, axis=1)\n",
        "\n",
        "    # Train a regressor model\n",
        "    model = HistGradientBoostingRegressor()\n",
        "    model.fit(X_train, y_train)\n",
        "\n",
        "    # Predict the missing values\n",
        "    y_pred = model.predict(X_test)\n",
        "\n",
        "    # Set minimum predicted values to 0\n",
        "    y_pred = np.maximum(y_pred, 0)\n",
        "\n",
        "    # Replace missing values in the original dataset with the predicted values\n",
        "    df.loc[np.isnan(df[feature]), feature] = y_pred"
      ]
    },
    {
      "cell_type": "markdown",
      "metadata": {
        "id": "rw6mEf7mv1vt"
      },
      "source": [
        "We'll use the describe method to see the change in our data"
      ]
    },
    {
      "cell_type": "code",
      "execution_count": null,
      "metadata": {
        "id": "S4ZvQ8pDa_Mh",
        "colab": {
          "base_uri": "https://localhost:8080/",
          "height": 300
        },
        "outputId": "fbe61e7e-7bbf-42be-b39e-1b9faa40b213"
      },
      "outputs": [
        {
          "output_type": "execute_result",
          "data": {
            "text/plain": [
              "              length    releaseYear        endYear         gross\n",
              "count  101604.000000  101604.000000  101604.000000  1.016040e+05\n",
              "mean       87.580774    1999.174058    2007.051983  7.935469e+06\n",
              "std        58.603861      22.972079       8.172184  2.334956e+07\n",
              "min         1.000000    1874.000000    1952.000000  0.000000e+00\n",
              "25%        60.000000    1990.000000    2002.633566  5.573959e+05\n",
              "50%        90.000000    2007.000000    2008.219516  1.242868e+06\n",
              "75%       105.000000    2016.000000    2013.129692  3.157432e+06\n",
              "max      5220.000000    2023.000000    2024.000000  9.366600e+08"
            ],
            "text/html": [
              "\n",
              "  <div id=\"df-cf479a01-1952-42da-98c6-472b910d287e\">\n",
              "    <div class=\"colab-df-container\">\n",
              "      <div>\n",
              "<style scoped>\n",
              "    .dataframe tbody tr th:only-of-type {\n",
              "        vertical-align: middle;\n",
              "    }\n",
              "\n",
              "    .dataframe tbody tr th {\n",
              "        vertical-align: top;\n",
              "    }\n",
              "\n",
              "    .dataframe thead th {\n",
              "        text-align: right;\n",
              "    }\n",
              "</style>\n",
              "<table border=\"1\" class=\"dataframe\">\n",
              "  <thead>\n",
              "    <tr style=\"text-align: right;\">\n",
              "      <th></th>\n",
              "      <th>length</th>\n",
              "      <th>releaseYear</th>\n",
              "      <th>endYear</th>\n",
              "      <th>gross</th>\n",
              "    </tr>\n",
              "  </thead>\n",
              "  <tbody>\n",
              "    <tr>\n",
              "      <th>count</th>\n",
              "      <td>101604.000000</td>\n",
              "      <td>101604.000000</td>\n",
              "      <td>101604.000000</td>\n",
              "      <td>1.016040e+05</td>\n",
              "    </tr>\n",
              "    <tr>\n",
              "      <th>mean</th>\n",
              "      <td>87.580774</td>\n",
              "      <td>1999.174058</td>\n",
              "      <td>2007.051983</td>\n",
              "      <td>7.935469e+06</td>\n",
              "    </tr>\n",
              "    <tr>\n",
              "      <th>std</th>\n",
              "      <td>58.603861</td>\n",
              "      <td>22.972079</td>\n",
              "      <td>8.172184</td>\n",
              "      <td>2.334956e+07</td>\n",
              "    </tr>\n",
              "    <tr>\n",
              "      <th>min</th>\n",
              "      <td>1.000000</td>\n",
              "      <td>1874.000000</td>\n",
              "      <td>1952.000000</td>\n",
              "      <td>0.000000e+00</td>\n",
              "    </tr>\n",
              "    <tr>\n",
              "      <th>25%</th>\n",
              "      <td>60.000000</td>\n",
              "      <td>1990.000000</td>\n",
              "      <td>2002.633566</td>\n",
              "      <td>5.573959e+05</td>\n",
              "    </tr>\n",
              "    <tr>\n",
              "      <th>50%</th>\n",
              "      <td>90.000000</td>\n",
              "      <td>2007.000000</td>\n",
              "      <td>2008.219516</td>\n",
              "      <td>1.242868e+06</td>\n",
              "    </tr>\n",
              "    <tr>\n",
              "      <th>75%</th>\n",
              "      <td>105.000000</td>\n",
              "      <td>2016.000000</td>\n",
              "      <td>2013.129692</td>\n",
              "      <td>3.157432e+06</td>\n",
              "    </tr>\n",
              "    <tr>\n",
              "      <th>max</th>\n",
              "      <td>5220.000000</td>\n",
              "      <td>2023.000000</td>\n",
              "      <td>2024.000000</td>\n",
              "      <td>9.366600e+08</td>\n",
              "    </tr>\n",
              "  </tbody>\n",
              "</table>\n",
              "</div>\n",
              "      <button class=\"colab-df-convert\" onclick=\"convertToInteractive('df-cf479a01-1952-42da-98c6-472b910d287e')\"\n",
              "              title=\"Convert this dataframe to an interactive table.\"\n",
              "              style=\"display:none;\">\n",
              "        \n",
              "  <svg xmlns=\"http://www.w3.org/2000/svg\" height=\"24px\"viewBox=\"0 0 24 24\"\n",
              "       width=\"24px\">\n",
              "    <path d=\"M0 0h24v24H0V0z\" fill=\"none\"/>\n",
              "    <path d=\"M18.56 5.44l.94 2.06.94-2.06 2.06-.94-2.06-.94-.94-2.06-.94 2.06-2.06.94zm-11 1L8.5 8.5l.94-2.06 2.06-.94-2.06-.94L8.5 2.5l-.94 2.06-2.06.94zm10 10l.94 2.06.94-2.06 2.06-.94-2.06-.94-.94-2.06-.94 2.06-2.06.94z\"/><path d=\"M17.41 7.96l-1.37-1.37c-.4-.4-.92-.59-1.43-.59-.52 0-1.04.2-1.43.59L10.3 9.45l-7.72 7.72c-.78.78-.78 2.05 0 2.83L4 21.41c.39.39.9.59 1.41.59.51 0 1.02-.2 1.41-.59l7.78-7.78 2.81-2.81c.8-.78.8-2.07 0-2.86zM5.41 20L4 18.59l7.72-7.72 1.47 1.35L5.41 20z\"/>\n",
              "  </svg>\n",
              "      </button>\n",
              "      \n",
              "  <style>\n",
              "    .colab-df-container {\n",
              "      display:flex;\n",
              "      flex-wrap:wrap;\n",
              "      gap: 12px;\n",
              "    }\n",
              "\n",
              "    .colab-df-convert {\n",
              "      background-color: #E8F0FE;\n",
              "      border: none;\n",
              "      border-radius: 50%;\n",
              "      cursor: pointer;\n",
              "      display: none;\n",
              "      fill: #1967D2;\n",
              "      height: 32px;\n",
              "      padding: 0 0 0 0;\n",
              "      width: 32px;\n",
              "    }\n",
              "\n",
              "    .colab-df-convert:hover {\n",
              "      background-color: #E2EBFA;\n",
              "      box-shadow: 0px 1px 2px rgba(60, 64, 67, 0.3), 0px 1px 3px 1px rgba(60, 64, 67, 0.15);\n",
              "      fill: #174EA6;\n",
              "    }\n",
              "\n",
              "    [theme=dark] .colab-df-convert {\n",
              "      background-color: #3B4455;\n",
              "      fill: #D2E3FC;\n",
              "    }\n",
              "\n",
              "    [theme=dark] .colab-df-convert:hover {\n",
              "      background-color: #434B5C;\n",
              "      box-shadow: 0px 1px 3px 1px rgba(0, 0, 0, 0.15);\n",
              "      filter: drop-shadow(0px 1px 2px rgba(0, 0, 0, 0.3));\n",
              "      fill: #FFFFFF;\n",
              "    }\n",
              "  </style>\n",
              "\n",
              "      <script>\n",
              "        const buttonEl =\n",
              "          document.querySelector('#df-cf479a01-1952-42da-98c6-472b910d287e button.colab-df-convert');\n",
              "        buttonEl.style.display =\n",
              "          google.colab.kernel.accessAllowed ? 'block' : 'none';\n",
              "\n",
              "        async function convertToInteractive(key) {\n",
              "          const element = document.querySelector('#df-cf479a01-1952-42da-98c6-472b910d287e');\n",
              "          const dataTable =\n",
              "            await google.colab.kernel.invokeFunction('convertToInteractive',\n",
              "                                                     [key], {});\n",
              "          if (!dataTable) return;\n",
              "\n",
              "          const docLinkHtml = 'Like what you see? Visit the ' +\n",
              "            '<a target=\"_blank\" href=https://colab.research.google.com/notebooks/data_table.ipynb>data table notebook</a>'\n",
              "            + ' to learn more about interactive tables.';\n",
              "          element.innerHTML = '';\n",
              "          dataTable['output_type'] = 'display_data';\n",
              "          await google.colab.output.renderOutput(dataTable, element);\n",
              "          const docLink = document.createElement('div');\n",
              "          docLink.innerHTML = docLinkHtml;\n",
              "          element.appendChild(docLink);\n",
              "        }\n",
              "      </script>\n",
              "    </div>\n",
              "  </div>\n",
              "  "
            ]
          },
          "metadata": {},
          "execution_count": 192
        }
      ],
      "source": [
        "df.describe()"
      ]
    },
    {
      "cell_type": "markdown",
      "metadata": {
        "id": "eRIuKvtBv6Z5"
      },
      "source": [
        "We can see that there are no more missing values , we'll move on to handling outliers . Here we are trying to predict normalized values and replace our extreme outlier value"
      ]
    },
    {
      "cell_type": "code",
      "execution_count": null,
      "metadata": {
        "id": "rmeP0vX_goNm"
      },
      "outputs": [],
      "source": [
        "# Identify the features with outlier values\n",
        "features_with_outliers = [\"length\", \"gross\"]\n",
        "\n",
        "# Iterate over features with outliers\n",
        "for feature in features_with_outliers:\n",
        "    # Define the outliers mask based on your criteria\n",
        "    lower_percentile = 5\n",
        "    upper_percentile = 95 if feature == 'length' else 85\n",
        "    lower_threshold = np.percentile(df[feature], lower_percentile)\n",
        "    upper_threshold = np.percentile(df[feature], upper_percentile)\n",
        "    outliers_mask = (df[feature] < lower_threshold) | (df[feature] > upper_threshold)\n",
        "\n",
        "    # Split the data into training and test sets\n",
        "    X_train = df[~outliers_mask].drop(features_with_outliers, axis=1)\n",
        "    y_train = df.loc[~outliers_mask, feature]\n",
        "    X_test = df[outliers_mask].drop(features_with_outliers, axis=1)\n",
        "\n",
        "    # Train a regressor model\n",
        "    model = HistGradientBoostingRegressor()\n",
        "    model.fit(X_train, y_train)\n",
        "\n",
        "    # Predict the outliers\n",
        "    y_pred = model.predict(X_test)\n",
        "\n",
        "    # Replace outliers in the original dataset with the predicted values\n",
        "    df.loc[outliers_mask, feature] = y_pred"
      ]
    },
    {
      "cell_type": "code",
      "execution_count": null,
      "metadata": {
        "id": "mBWzA4c2g2AX",
        "colab": {
          "base_uri": "https://localhost:8080/",
          "height": 300
        },
        "outputId": "efa6442a-c414-4bfb-82b9-da43acf1f355"
      },
      "outputs": [
        {
          "output_type": "execute_result",
          "data": {
            "text/plain": [
              "              length    releaseYear        endYear         gross\n",
              "count  101604.000000  101604.000000  101604.000000  1.016040e+05\n",
              "mean       84.142533    1999.174058    2007.051983  2.540861e+06\n",
              "std        29.092444      22.972079       8.172184  3.082993e+06\n",
              "min        19.410722    1874.000000    1952.000000  1.000000e+04\n",
              "25%        63.456440    1990.000000    2002.633566  5.904297e+05\n",
              "50%        90.000000    2007.000000    2008.219516  1.352233e+06\n",
              "75%       102.376536    2016.000000    2013.129692  3.066762e+06\n",
              "max       147.000000    2023.000000    2024.000000  1.605082e+07"
            ],
            "text/html": [
              "\n",
              "  <div id=\"df-b83870d0-e12b-41fd-ae2d-666cb33785d0\">\n",
              "    <div class=\"colab-df-container\">\n",
              "      <div>\n",
              "<style scoped>\n",
              "    .dataframe tbody tr th:only-of-type {\n",
              "        vertical-align: middle;\n",
              "    }\n",
              "\n",
              "    .dataframe tbody tr th {\n",
              "        vertical-align: top;\n",
              "    }\n",
              "\n",
              "    .dataframe thead th {\n",
              "        text-align: right;\n",
              "    }\n",
              "</style>\n",
              "<table border=\"1\" class=\"dataframe\">\n",
              "  <thead>\n",
              "    <tr style=\"text-align: right;\">\n",
              "      <th></th>\n",
              "      <th>length</th>\n",
              "      <th>releaseYear</th>\n",
              "      <th>endYear</th>\n",
              "      <th>gross</th>\n",
              "    </tr>\n",
              "  </thead>\n",
              "  <tbody>\n",
              "    <tr>\n",
              "      <th>count</th>\n",
              "      <td>101604.000000</td>\n",
              "      <td>101604.000000</td>\n",
              "      <td>101604.000000</td>\n",
              "      <td>1.016040e+05</td>\n",
              "    </tr>\n",
              "    <tr>\n",
              "      <th>mean</th>\n",
              "      <td>84.142533</td>\n",
              "      <td>1999.174058</td>\n",
              "      <td>2007.051983</td>\n",
              "      <td>2.540861e+06</td>\n",
              "    </tr>\n",
              "    <tr>\n",
              "      <th>std</th>\n",
              "      <td>29.092444</td>\n",
              "      <td>22.972079</td>\n",
              "      <td>8.172184</td>\n",
              "      <td>3.082993e+06</td>\n",
              "    </tr>\n",
              "    <tr>\n",
              "      <th>min</th>\n",
              "      <td>19.410722</td>\n",
              "      <td>1874.000000</td>\n",
              "      <td>1952.000000</td>\n",
              "      <td>1.000000e+04</td>\n",
              "    </tr>\n",
              "    <tr>\n",
              "      <th>25%</th>\n",
              "      <td>63.456440</td>\n",
              "      <td>1990.000000</td>\n",
              "      <td>2002.633566</td>\n",
              "      <td>5.904297e+05</td>\n",
              "    </tr>\n",
              "    <tr>\n",
              "      <th>50%</th>\n",
              "      <td>90.000000</td>\n",
              "      <td>2007.000000</td>\n",
              "      <td>2008.219516</td>\n",
              "      <td>1.352233e+06</td>\n",
              "    </tr>\n",
              "    <tr>\n",
              "      <th>75%</th>\n",
              "      <td>102.376536</td>\n",
              "      <td>2016.000000</td>\n",
              "      <td>2013.129692</td>\n",
              "      <td>3.066762e+06</td>\n",
              "    </tr>\n",
              "    <tr>\n",
              "      <th>max</th>\n",
              "      <td>147.000000</td>\n",
              "      <td>2023.000000</td>\n",
              "      <td>2024.000000</td>\n",
              "      <td>1.605082e+07</td>\n",
              "    </tr>\n",
              "  </tbody>\n",
              "</table>\n",
              "</div>\n",
              "      <button class=\"colab-df-convert\" onclick=\"convertToInteractive('df-b83870d0-e12b-41fd-ae2d-666cb33785d0')\"\n",
              "              title=\"Convert this dataframe to an interactive table.\"\n",
              "              style=\"display:none;\">\n",
              "        \n",
              "  <svg xmlns=\"http://www.w3.org/2000/svg\" height=\"24px\"viewBox=\"0 0 24 24\"\n",
              "       width=\"24px\">\n",
              "    <path d=\"M0 0h24v24H0V0z\" fill=\"none\"/>\n",
              "    <path d=\"M18.56 5.44l.94 2.06.94-2.06 2.06-.94-2.06-.94-.94-2.06-.94 2.06-2.06.94zm-11 1L8.5 8.5l.94-2.06 2.06-.94-2.06-.94L8.5 2.5l-.94 2.06-2.06.94zm10 10l.94 2.06.94-2.06 2.06-.94-2.06-.94-.94-2.06-.94 2.06-2.06.94z\"/><path d=\"M17.41 7.96l-1.37-1.37c-.4-.4-.92-.59-1.43-.59-.52 0-1.04.2-1.43.59L10.3 9.45l-7.72 7.72c-.78.78-.78 2.05 0 2.83L4 21.41c.39.39.9.59 1.41.59.51 0 1.02-.2 1.41-.59l7.78-7.78 2.81-2.81c.8-.78.8-2.07 0-2.86zM5.41 20L4 18.59l7.72-7.72 1.47 1.35L5.41 20z\"/>\n",
              "  </svg>\n",
              "      </button>\n",
              "      \n",
              "  <style>\n",
              "    .colab-df-container {\n",
              "      display:flex;\n",
              "      flex-wrap:wrap;\n",
              "      gap: 12px;\n",
              "    }\n",
              "\n",
              "    .colab-df-convert {\n",
              "      background-color: #E8F0FE;\n",
              "      border: none;\n",
              "      border-radius: 50%;\n",
              "      cursor: pointer;\n",
              "      display: none;\n",
              "      fill: #1967D2;\n",
              "      height: 32px;\n",
              "      padding: 0 0 0 0;\n",
              "      width: 32px;\n",
              "    }\n",
              "\n",
              "    .colab-df-convert:hover {\n",
              "      background-color: #E2EBFA;\n",
              "      box-shadow: 0px 1px 2px rgba(60, 64, 67, 0.3), 0px 1px 3px 1px rgba(60, 64, 67, 0.15);\n",
              "      fill: #174EA6;\n",
              "    }\n",
              "\n",
              "    [theme=dark] .colab-df-convert {\n",
              "      background-color: #3B4455;\n",
              "      fill: #D2E3FC;\n",
              "    }\n",
              "\n",
              "    [theme=dark] .colab-df-convert:hover {\n",
              "      background-color: #434B5C;\n",
              "      box-shadow: 0px 1px 3px 1px rgba(0, 0, 0, 0.15);\n",
              "      filter: drop-shadow(0px 1px 2px rgba(0, 0, 0, 0.3));\n",
              "      fill: #FFFFFF;\n",
              "    }\n",
              "  </style>\n",
              "\n",
              "      <script>\n",
              "        const buttonEl =\n",
              "          document.querySelector('#df-b83870d0-e12b-41fd-ae2d-666cb33785d0 button.colab-df-convert');\n",
              "        buttonEl.style.display =\n",
              "          google.colab.kernel.accessAllowed ? 'block' : 'none';\n",
              "\n",
              "        async function convertToInteractive(key) {\n",
              "          const element = document.querySelector('#df-b83870d0-e12b-41fd-ae2d-666cb33785d0');\n",
              "          const dataTable =\n",
              "            await google.colab.kernel.invokeFunction('convertToInteractive',\n",
              "                                                     [key], {});\n",
              "          if (!dataTable) return;\n",
              "\n",
              "          const docLinkHtml = 'Like what you see? Visit the ' +\n",
              "            '<a target=\"_blank\" href=https://colab.research.google.com/notebooks/data_table.ipynb>data table notebook</a>'\n",
              "            + ' to learn more about interactive tables.';\n",
              "          element.innerHTML = '';\n",
              "          dataTable['output_type'] = 'display_data';\n",
              "          await google.colab.output.renderOutput(dataTable, element);\n",
              "          const docLink = document.createElement('div');\n",
              "          docLink.innerHTML = docLinkHtml;\n",
              "          element.appendChild(docLink);\n",
              "        }\n",
              "      </script>\n",
              "    </div>\n",
              "  </div>\n",
              "  "
            ]
          },
          "metadata": {},
          "execution_count": 194
        }
      ],
      "source": [
        "df.describe()"
      ]
    },
    {
      "cell_type": "markdown",
      "metadata": {
        "id": "R7viPJOnAM28"
      },
      "source": [
        "### Adding age and duration columns\n",
        "\n",
        "\n"
      ]
    },
    {
      "cell_type": "markdown",
      "source": [
        "We'll these columns now that we have no null values in our data set"
      ],
      "metadata": {
        "id": "1PMwOmbltXut"
      }
    },
    {
      "cell_type": "code",
      "execution_count": null,
      "metadata": {
        "id": "4-Uxs689FeHa",
        "colab": {
          "base_uri": "https://localhost:8080/"
        },
        "outputId": "61f2dcb1-7393-4ed6-b31a-0137874fe431"
      },
      "outputs": [
        {
          "output_type": "execute_result",
          "data": {
            "text/plain": [
              "Index(['length', 'releaseYear', 'endYear', 'gross', 'rating_category',\n",
              "       'contentType_movie', 'contentType_tvSeries', 'certificate_Adults',\n",
              "       'certificate_All Ages', 'certificate_Teen', 'certificate_Unknown',\n",
              "       'region_United States', 'region_United Kingdom', 'region_France',\n",
              "       'region_India', 'region_Canada', 'region_other', 'genre_Drama',\n",
              "       'genre_Comedy', 'genre_Romance', 'genre_Action', 'genre_Crime',\n",
              "       'genre_other', 'age', 'duration'],\n",
              "      dtype='object')"
            ]
          },
          "metadata": {},
          "execution_count": 195
        }
      ],
      "source": [
        "df['age'] = 2023 - df['releaseYear']\n",
        "\n",
        "df['duration'] = df['endYear'] - df['releaseYear']\n",
        "\n",
        "df.columns"
      ]
    },
    {
      "cell_type": "code",
      "execution_count": null,
      "metadata": {
        "id": "Sgl7k6x1olQg",
        "colab": {
          "base_uri": "https://localhost:8080/"
        },
        "outputId": "51eae720-b81a-4358-8cd7-8e91c53765b0"
      },
      "outputs": [
        {
          "output_type": "stream",
          "name": "stdout",
          "text": [
            "<class 'pandas.core.frame.DataFrame'>\n",
            "Int64Index: 101604 entries, 0 to 101604\n",
            "Data columns (total 25 columns):\n",
            " #   Column                 Non-Null Count   Dtype   \n",
            "---  ------                 --------------   -----   \n",
            " 0   length                 101604 non-null  float64 \n",
            " 1   releaseYear            101604 non-null  float64 \n",
            " 2   endYear                101604 non-null  float64 \n",
            " 3   gross                  101604 non-null  float64 \n",
            " 4   rating_category        101604 non-null  category\n",
            " 5   contentType_movie      101604 non-null  category\n",
            " 6   contentType_tvSeries   101604 non-null  category\n",
            " 7   certificate_Adults     101604 non-null  category\n",
            " 8   certificate_All Ages   101604 non-null  category\n",
            " 9   certificate_Teen       101604 non-null  category\n",
            " 10  certificate_Unknown    101604 non-null  category\n",
            " 11  region_United States   101604 non-null  category\n",
            " 12  region_United Kingdom  101604 non-null  category\n",
            " 13  region_France          101604 non-null  category\n",
            " 14  region_India           101604 non-null  category\n",
            " 15  region_Canada          101604 non-null  category\n",
            " 16  region_other           101604 non-null  category\n",
            " 17  genre_Drama            101604 non-null  category\n",
            " 18  genre_Comedy           101604 non-null  category\n",
            " 19  genre_Romance          101604 non-null  category\n",
            " 20  genre_Action           101604 non-null  category\n",
            " 21  genre_Crime            101604 non-null  category\n",
            " 22  genre_other            101604 non-null  category\n",
            " 23  age                    101604 non-null  float64 \n",
            " 24  duration               101604 non-null  float64 \n",
            "dtypes: category(19), float64(6)\n",
            "memory usage: 11.3 MB\n"
          ]
        }
      ],
      "source": [
        "df.info()"
      ]
    },
    {
      "cell_type": "markdown",
      "metadata": {
        "id": "bmIN_bLNRUWP"
      },
      "source": [
        "Convert the numeric columns to int"
      ]
    },
    {
      "cell_type": "code",
      "execution_count": null,
      "metadata": {
        "id": "rbzpMNsEIQpF"
      },
      "outputs": [],
      "source": [
        "# convert values in these columns to int\n",
        "columns_to_convert = ['length', 'releaseYear', 'endYear', 'gross' , 'age', 'duration']\n",
        "df[columns_to_convert] = df[columns_to_convert].astype(int)"
      ]
    },
    {
      "cell_type": "markdown",
      "metadata": {
        "id": "jWjd9-5EU9By"
      },
      "source": [
        "## Checking Information gain and scaling"
      ]
    },
    {
      "cell_type": "markdown",
      "source": [
        "We'll check the information gain of each column to pick the columns we are going to use in our models"
      ],
      "metadata": {
        "id": "JOKI6jrqpUnS"
      }
    },
    {
      "cell_type": "code",
      "execution_count": null,
      "metadata": {
        "colab": {
          "base_uri": "https://localhost:8080/"
        },
        "id": "2q985ymwaApX",
        "outputId": "3a82c440-460b-4fdc-e9e8-16a76013224f"
      },
      "outputs": [
        {
          "output_type": "stream",
          "name": "stdout",
          "text": [
            "Feature: length, Information Gain: 0.07688539499061342\n",
            "Feature: releaseYear, Information Gain: 0.008241242192462028\n",
            "Feature: endYear, Information Gain: 0.14787052448854388\n",
            "Feature: gross, Information Gain: 0.6964892040170798\n",
            "Feature: contentType_movie, Information Gain: 0.07007726269317671\n",
            "Feature: contentType_tvSeries, Information Gain: 0.06450439729244373\n",
            "Feature: certificate_Adults, Information Gain: 0.021588624422342884\n",
            "Feature: certificate_All Ages, Information Gain: 0.0006381705028426499\n",
            "Feature: certificate_Teen, Information Gain: 0.009677600003151099\n",
            "Feature: certificate_Unknown, Information Gain: 0.047922955516970234\n",
            "Feature: region_United States, Information Gain: 0.012108451352618621\n",
            "Feature: region_United Kingdom, Information Gain: 0.003326987238350787\n",
            "Feature: region_France, Information Gain: 0.0011221578999902615\n",
            "Feature: region_India, Information Gain: 0.003193983085616914\n",
            "Feature: region_Canada, Information Gain: 0.0\n",
            "Feature: region_other, Information Gain: 0.013611303566508637\n",
            "Feature: genre_Drama, Information Gain: 0.01728423792534861\n",
            "Feature: genre_Comedy, Information Gain: 0.003056840193712107\n",
            "Feature: genre_Romance, Information Gain: 0.006102684028743255\n",
            "Feature: genre_Action, Information Gain: 0.0030096497445859516\n",
            "Feature: genre_Crime, Information Gain: 0.004306531095732868\n",
            "Feature: genre_other, Information Gain: 0.012015684947891181\n",
            "Feature: age, Information Gain: 0.013547910015451192\n",
            "Feature: duration, Information Gain: 0.036791504781377604\n"
          ]
        }
      ],
      "source": [
        "# Separate your data into features (X) and target variable (y)\n",
        "X = df.drop('rating_category', axis=1)\n",
        "y = df['rating_category']\n",
        "\n",
        "# Calculate the information gain for each feature\n",
        "info_gain = mutual_info_classif(X, y)\n",
        "\n",
        "# Print the information gain scores for each feature\n",
        "for feature, score in zip(X.columns, info_gain):\n",
        "    print(f\"Feature: {feature}, Information Gain: {score}\")"
      ]
    },
    {
      "cell_type": "markdown",
      "metadata": {
        "id": "RO4Ux2t4Sdfs"
      },
      "source": [
        "Use MinMaxScaler to normalize the data in the chosen columns"
      ]
    },
    {
      "cell_type": "code",
      "execution_count": null,
      "metadata": {
        "id": "cRLNZX2yz7w4"
      },
      "outputs": [],
      "source": [
        "chosen_columns = ['endYear', 'gross', 'length'] # We'll also add 'contentType_movie', 'contentType_tvSeries' after normalization of these columns\n",
        "\n",
        "# Create an instance of the MinMaxScaler\n",
        "scaler = MinMaxScaler()\n",
        "\n",
        "# Perform scaling on the columns\n",
        "df[chosen_columns] = scaler.fit_transform(df[chosen_columns])\n",
        "\n",
        "chosen_columns.extend(['contentType_movie', 'contentType_tvSeries'])\n",
        "\n",
        "# Split the data into training and testing sets\n",
        "X = df[chosen_columns]\n",
        "Y = df[\"rating_category\"]\n",
        "X_train, X_test, y_train, y_test = train_test_split(X, Y, test_size=0.2, random_state=42)"
      ]
    },
    {
      "cell_type": "code",
      "execution_count": null,
      "metadata": {
        "colab": {
          "base_uri": "https://localhost:8080/"
        },
        "id": "daIVvxQwa_h0",
        "outputId": "a667b1d2-4c47-4317-b650-3ac727c92058"
      },
      "outputs": [
        {
          "output_type": "stream",
          "name": "stdout",
          "text": [
            "<class 'pandas.core.frame.DataFrame'>\n",
            "Int64Index: 101604 entries, 0 to 101604\n",
            "Data columns (total 25 columns):\n",
            " #   Column                 Non-Null Count   Dtype   \n",
            "---  ------                 --------------   -----   \n",
            " 0   length                 101604 non-null  float64 \n",
            " 1   releaseYear            101604 non-null  int64   \n",
            " 2   endYear                101604 non-null  float64 \n",
            " 3   gross                  101604 non-null  float64 \n",
            " 4   rating_category        101604 non-null  category\n",
            " 5   contentType_movie      101604 non-null  category\n",
            " 6   contentType_tvSeries   101604 non-null  category\n",
            " 7   certificate_Adults     101604 non-null  category\n",
            " 8   certificate_All Ages   101604 non-null  category\n",
            " 9   certificate_Teen       101604 non-null  category\n",
            " 10  certificate_Unknown    101604 non-null  category\n",
            " 11  region_United States   101604 non-null  category\n",
            " 12  region_United Kingdom  101604 non-null  category\n",
            " 13  region_France          101604 non-null  category\n",
            " 14  region_India           101604 non-null  category\n",
            " 15  region_Canada          101604 non-null  category\n",
            " 16  region_other           101604 non-null  category\n",
            " 17  genre_Drama            101604 non-null  category\n",
            " 18  genre_Comedy           101604 non-null  category\n",
            " 19  genre_Romance          101604 non-null  category\n",
            " 20  genre_Action           101604 non-null  category\n",
            " 21  genre_Crime            101604 non-null  category\n",
            " 22  genre_other            101604 non-null  category\n",
            " 23  age                    101604 non-null  int64   \n",
            " 24  duration               101604 non-null  int64   \n",
            "dtypes: category(19), float64(3), int64(3)\n",
            "memory usage: 11.3 MB\n"
          ]
        }
      ],
      "source": [
        "df.info()"
      ]
    },
    {
      "cell_type": "markdown",
      "metadata": {
        "id": "Hv9Ag1NDVf8o"
      },
      "source": [
        "# Classification Models"
      ]
    },
    {
      "cell_type": "markdown",
      "metadata": {
        "id": "4AMjEV8oStK0"
      },
      "source": [
        "## Show results function\n",
        "\n",
        "This function will be called after each model , to show it's result"
      ]
    },
    {
      "cell_type": "code",
      "execution_count": null,
      "metadata": {
        "id": "Xmqw65m20Jzx"
      },
      "outputs": [],
      "source": [
        "def show_results(model, y_test, y_pred) :\n",
        "  # Calculate precision\n",
        "  precision = precision_score(y_test, y_pred, average='weighted', zero_division = 0)\n",
        "  print(\"Precision:\", precision)\n",
        "\n",
        "  # Calculate recall\n",
        "  recall = recall_score(y_test, y_pred, average='weighted')\n",
        "  print(\"Recall:\", recall)\n",
        "\n",
        "  # Calculate F-measure\n",
        "  f_measure = f1_score(y_test, y_pred, average='weighted')\n",
        "  print(\"F-measure:\", f_measure)\n",
        "\n",
        "  # Evaluate accuracy\n",
        "  accuracy = accuracy_score(y_test, y_pred)\n",
        "  print(\"Accuracy:\", accuracy, \"\\n\\n\")\n",
        "\n",
        "  if (not isinstance(model, KMeans)):\n",
        "    scores = cross_val_score(model, X, Y, cv=5)\n",
        "    print(\"Cross validation: \", np.mean(scores))\n",
        "\n",
        "  # Calculate the confusion matrix\n",
        "  confusion_mat = confusion_matrix(y_test, y_pred)\n",
        "\n",
        "  # Create a heatmap of the confusion matrix\n",
        "  sns.heatmap(confusion_mat, annot=True, cmap='Blues', fmt='d')\n",
        "\n",
        "  # Customize the plot\n",
        "  plt.title('Confusion Matrix')\n",
        "  plt.xlabel('Predicted Labels')\n",
        "  plt.ylabel('True Labels')\n",
        "\n",
        "  # Show the plot\n",
        "  plt.show()"
      ]
    },
    {
      "cell_type": "markdown",
      "metadata": {
        "id": "71zmc-qIV_Dd"
      },
      "source": [
        "## Naive Bayes"
      ]
    },
    {
      "cell_type": "code",
      "execution_count": null,
      "metadata": {
        "id": "a5l0FjwqpEXc"
      },
      "outputs": [],
      "source": [
        "# Create a Naive Bayes classifier\n",
        "model = GaussianNB()\n",
        "\n",
        "# Train the model\n",
        "model.fit(X_train, y_train)\n",
        "\n",
        "# Make predictions on the test set\n",
        "y_pred = model.predict(X_test)"
      ]
    },
    {
      "cell_type": "code",
      "execution_count": null,
      "metadata": {
        "colab": {
          "base_uri": "https://localhost:8080/",
          "height": 601
        },
        "id": "qNQMZK19fC5q",
        "outputId": "40ef5525-88ba-4321-d690-4269985be5ad"
      },
      "outputs": [
        {
          "output_type": "stream",
          "name": "stdout",
          "text": [
            "Precision: 0.6948774635989408\n",
            "Recall: 0.61330643177009\n",
            "F-measure: 0.62921462516435\n",
            "Accuracy: 0.61330643177009 \n",
            "\n",
            "\n",
            "Cross validation:  0.5468673130894807\n"
          ]
        },
        {
          "output_type": "display_data",
          "data": {
            "text/plain": [
              "<Figure size 640x480 with 2 Axes>"
            ],
            "image/png": "[encoded data removed]"
          },
          "metadata": {}
        }
      ],
      "source": [
        "show_results(model, y_test, y_pred)"
      ]
    },
    {
      "cell_type": "markdown",
      "metadata": {
        "id": "ymjdMBavgB8W"
      },
      "source": [
        "## DecisionTreeClassifier"
      ]
    },
    {
      "cell_type": "code",
      "execution_count": null,
      "metadata": {
        "id": "IoVxvAK0fZy4"
      },
      "outputs": [],
      "source": [
        "# Create a Decision Tree classifier\n",
        "model = DecisionTreeClassifier(max_depth=3)\n",
        "\n",
        "# Train the model\n",
        "model.fit(X_train, y_train)\n",
        "\n",
        "# Make predictions on the test set\n",
        "y_pred = model.predict(X_test)"
      ]
    },
    {
      "cell_type": "code",
      "execution_count": null,
      "metadata": {
        "colab": {
          "base_uri": "https://localhost:8080/",
          "height": 601
        },
        "id": "8DNLBtUQseks",
        "outputId": "a4f64cf3-72c7-489e-f2fa-65958f841fac"
      },
      "outputs": [
        {
          "output_type": "stream",
          "name": "stdout",
          "text": [
            "Precision: 0.6894367823734443\n",
            "Recall: 0.666355002214458\n",
            "F-measure: 0.6703805979398068\n",
            "Accuracy: 0.666355002214458 \n",
            "\n",
            "\n",
            "Cross validation:  0.659541194536353\n"
          ]
        },
        {
          "output_type": "display_data",
          "data": {
            "text/plain": [
              "<Figure size 640x480 with 2 Axes>"
            ],
            "image/png": "[encoded data removed]"
          },
          "metadata": {}
        }
      ],
      "source": [
        "show_results(model, y_test, y_pred)"
      ]
    },
    {
      "cell_type": "markdown",
      "metadata": {
        "id": "exhr2i_BgROK"
      },
      "source": [
        "## RandomForestClassifier"
      ]
    },
    {
      "cell_type": "code",
      "execution_count": null,
      "metadata": {
        "id": "1Dg4Q-3Tix0Q"
      },
      "outputs": [],
      "source": [
        "# Create a Random Forest classifier\n",
        "model = RandomForestClassifier(n_estimators = 200, max_depth = 3)\n",
        "\n",
        "# Train the model\n",
        "model.fit(X_train, y_train)\n",
        "\n",
        "# Make predictions on the test set\n",
        "y_pred = model.predict(X_test)"
      ]
    },
    {
      "cell_type": "code",
      "execution_count": null,
      "metadata": {
        "id": "cFD8w0FZi_mQ",
        "colab": {
          "base_uri": "https://localhost:8080/",
          "height": 601
        },
        "outputId": "ce4beae3-2fc8-4815-86fc-0d6b89f507e1"
      },
      "outputs": [
        {
          "output_type": "stream",
          "name": "stdout",
          "text": [
            "Precision: 0.6575381097027596\n",
            "Recall: 0.6608434624280302\n",
            "F-measure: 0.656266216167079\n",
            "Accuracy: 0.6608434624280302 \n",
            "\n",
            "\n",
            "Cross validation:  0.656972448016423\n"
          ]
        },
        {
          "output_type": "display_data",
          "data": {
            "text/plain": [
              "<Figure size 640x480 with 2 Axes>"
            ],
            "image/png": "[encoded data removed]"
          },
          "metadata": {}
        }
      ],
      "source": [
        "show_results(model, y_test, y_pred)"
      ]
    },
    {
      "cell_type": "markdown",
      "metadata": {
        "id": "3t8T94NuwhSO"
      },
      "source": [
        "## KNeighborsClassifier"
      ]
    },
    {
      "cell_type": "code",
      "execution_count": null,
      "metadata": {
        "id": "91v6lhBDwjEA"
      },
      "outputs": [],
      "source": [
        "# Create a K-Nearest Neighbors classifier\n",
        "model = KNeighborsClassifier(n_neighbors=5)\n",
        "\n",
        "# Train the model\n",
        "model.fit(X_train, y_train)\n",
        "\n",
        "# Make predictions on the test set\n",
        "y_pred = model.predict(X_test)"
      ]
    },
    {
      "cell_type": "code",
      "execution_count": null,
      "metadata": {
        "id": "KFXIFx9-w2iR",
        "colab": {
          "base_uri": "https://localhost:8080/",
          "height": 601
        },
        "outputId": "aad1616a-5a51-430e-9dc5-a3cad6c1a4d4"
      },
      "outputs": [
        {
          "output_type": "stream",
          "name": "stdout",
          "text": [
            "Precision: 0.8243476011431933\n",
            "Recall: 0.8240244082476256\n",
            "F-measure: 0.8241151960880702\n",
            "Accuracy: 0.8240244082476256 \n",
            "\n",
            "\n",
            "Cross validation:  0.7716814913938376\n"
          ]
        },
        {
          "output_type": "display_data",
          "data": {
            "text/plain": [
              "<Figure size 640x480 with 2 Axes>"
            ],
            "image/png": "[encoded data removed]"
          },
          "metadata": {}
        }
      ],
      "source": [
        "show_results(model, y_test, y_pred)"
      ]
    },
    {
      "cell_type": "markdown",
      "metadata": {
        "id": "35dQG3XLztOb"
      },
      "source": [
        "## K-Means"
      ]
    },
    {
      "cell_type": "code",
      "execution_count": null,
      "metadata": {
        "id": "nQ0aho-3-Svv"
      },
      "outputs": [],
      "source": [
        "# Create a label encoder instance\n",
        "label_encoder = LabelEncoder()\n",
        "\n",
        "# Fit the label encoder on y_test and transform the labels\n",
        "y_test_encoded = label_encoder.fit_transform(y_test)\n",
        "\n",
        "# Perform K-means clustering on X_test\n",
        "model = KMeans(n_init = 'auto', n_clusters=3, random_state=42)\n",
        "model.fit(X_train)\n",
        "\n",
        "# Predict the clusters for X_test\n",
        "test_clusters = model.predict(X_test)\n",
        "\n",
        "# Find the majority label for each cluster\n",
        "cluster_labels = []\n",
        "for cluster in np.unique(test_clusters):\n",
        "    cluster_indices = np.where(test_clusters == cluster)[0]\n",
        "    cluster_labels.append(np.bincount(y_test_encoded[cluster_indices]).argmax())\n",
        "\n",
        "# Map the cluster labels to the original labels\n",
        "predicted_labels = [cluster_labels[cluster] for cluster in test_clusters]\n",
        "\n",
        "# Inverse transform the predicted labels to their original form\n",
        "y_pred = label_encoder.inverse_transform(predicted_labels)"
      ]
    },
    {
      "cell_type": "code",
      "execution_count": null,
      "metadata": {
        "id": "i38mYp6F0tuT",
        "colab": {
          "base_uri": "https://localhost:8080/",
          "height": 583
        },
        "outputId": "084fbd38-fe7d-4d16-b351-2451ae49f485"
      },
      "outputs": [
        {
          "output_type": "stream",
          "name": "stdout",
          "text": [
            "Precision: 0.4460668527914699\n",
            "Recall: 0.5943113035775799\n",
            "F-measure: 0.5028596436461978\n",
            "Accuracy: 0.5943113035775799 \n",
            "\n",
            "\n"
          ]
        },
        {
          "output_type": "display_data",
          "data": {
            "text/plain": [
              "<Figure size 640x480 with 2 Axes>"
            ],
            "image/png": "[encoded data removed]"
          },
          "metadata": {}
        }
      ],
      "source": [
        "show_results(model, y_test, y_pred)"
      ]
    }
  ],
  "metadata": {
    "colab": {
      "provenance": []
    },
    "kernelspec": {
      "display_name": "Python 3",
      "name": "python3"
    },
    "language_info": {
      "name": "python"
    }
  },
  "nbformat": 4,
  "nbformat_minor": 0
}